{
 "cells": [
  {
   "cell_type": "markdown",
   "metadata": {},
   "source": [
    "# Using Apache Drill to Query Parliament Written Questions Data\n",
    "\n",
    "A bit of a play to try to get to grips with Apache Drill, querying over JSON and CSV for Parliament data that doesn't quite link up as it should do..."
   ]
  },
  {
   "cell_type": "code",
   "execution_count": 145,
   "metadata": {
    "collapsed": true
   },
   "outputs": [],
   "source": [
    "import pandas as pd\n",
    "from pydrill.client import PyDrill\n",
    "\n",
    "%matplotlib inline\n",
    "\n",
    "#Get a connection to the Apache Drill server\n",
    "drill = PyDrill(host='localhost', port=8047)"
   ]
  },
  {
   "cell_type": "markdown",
   "metadata": {},
   "source": [
    "## Download Written Questions Data for a Session\n",
    "\n",
    "This is a faff, because there is no bulk download...\n",
    "\n",
    "It also makes more sense to use `requests-cache` along the way in case things break midway through the download, so you don't then have to reload everything again..."
   ]
  },
  {
   "cell_type": "code",
   "execution_count": null,
   "metadata": {
    "collapsed": true
   },
   "outputs": [],
   "source": [
    "#Get Written questions data - may take some time!\n",
    "stub='http://lda.data.parliament.uk'.strip('/')\n",
    "\n",
    "#We're going to have to call the API somehow\n",
    "import requests\n",
    "\n",
    "\n",
    "##To make thinks more efficient if we do this again, cache requests\n",
    "#!pip3 install requests_cache\n",
    "#import requests_cache\n",
    "#requests_cache.install_cache('parlidata_cache', backend='sqlite')\n",
    "\n",
    "\n",
    "#Get data from URL\n",
    "def getURL(url):\n",
    "    print(url)\n",
    "    r=requests.get(url)\n",
    "    print(r.status_code)\n",
    "    return r\n",
    "\n",
    "#Download data - if there is more, get it\n",
    "def loader(url):\n",
    "    items=[]\n",
    "    done=False\n",
    "    r=getURL(url)\n",
    "    while not done:\n",
    "        items=items+r.json()['result']['items']\n",
    "        if 'next' in r.json()['result']:\n",
    "            r=getURL(r.json()['result']['next']+'&_pageSize=500')\n",
    "        else: done=True\n",
    "    return items\n",
    "\n",
    "\n",
    "url='{}/{}.json?session={}'.format(stub,'commonswrittenquestions','2015/16')\n",
    "items=loader(url)\n",
    "\n",
    "\n",
    "#Save the data\n",
    "import json\n",
    "with open('writtenQuestions.json', 'w') as outfile:\n",
    "    json.dump(items, outfile)"
   ]
  },
  {
   "cell_type": "markdown",
   "metadata": {},
   "source": [
    "We should now have all the data in a single JSON file (`writtenQuestions.json`).\n",
    "\n",
    "(Actually, if we had downloaded the data into the same directory as separately and uniquely named JSON files, Apache Drill should be able to query over them...) \n",
    "\n",
    "Let's see if we can query it..."
   ]
  },
  {
   "cell_type": "code",
   "execution_count": 120,
   "metadata": {},
   "outputs": [
    {
     "data": {
      "text/html": [
       "<div>\n",
       "<style>\n",
       "    .dataframe thead tr:only-child th {\n",
       "        text-align: right;\n",
       "    }\n",
       "\n",
       "    .dataframe thead th {\n",
       "        text-align: left;\n",
       "    }\n",
       "\n",
       "    .dataframe tbody tr th {\n",
       "        vertical-align: top;\n",
       "    }\n",
       "</style>\n",
       "<table border=\"1\" class=\"dataframe\">\n",
       "  <thead>\n",
       "    <tr style=\"text-align: right;\">\n",
       "      <th></th>\n",
       "      <th>AnswerDate</th>\n",
       "      <th>AnsweringBody</th>\n",
       "      <th>_about</th>\n",
       "      <th>dateTabled</th>\n",
       "      <th>questionText</th>\n",
       "      <th>tablingMember</th>\n",
       "      <th>tablingMemberPrinted</th>\n",
       "      <th>title</th>\n",
       "      <th>uin</th>\n",
       "    </tr>\n",
       "  </thead>\n",
       "  <tbody>\n",
       "    <tr>\n",
       "      <th>0</th>\n",
       "      <td>{\"_value\":\"2016-05-12\",\"_datatype\":\"dateTime\"}</td>\n",
       "      <td>[{\"_value\":\"Prime Minister\"}]</td>\n",
       "      <td>http://data.parliament.uk/resources/518530</td>\n",
       "      <td>{\"_value\":\"2016-05-11\",\"_datatype\":\"dateTime\"}</td>\n",
       "      <td>To ask the Prime Minister, if he will clarify ...</td>\n",
       "      <td>{\"_about\":\"http://data.parliament.uk/members/1...</td>\n",
       "      <td>[{\"_value\":\"Mr Keith Simpson\"}]</td>\n",
       "      <td>House of Commons Tabled Parliamentary Question...</td>\n",
       "      <td>37017</td>\n",
       "    </tr>\n",
       "    <tr>\n",
       "      <th>1</th>\n",
       "      <td>{\"_value\":\"2016-05-12\",\"_datatype\":\"dateTime\"}</td>\n",
       "      <td>[{\"_value\":\"Department for Business, Innovatio...</td>\n",
       "      <td>http://data.parliament.uk/resources/518374</td>\n",
       "      <td>{\"_value\":\"2016-05-10\",\"_datatype\":\"dateTime\"}</td>\n",
       "      <td>To ask the Secretary of State for Business, In...</td>\n",
       "      <td>{\"_about\":\"http://data.parliament.uk/members/4...</td>\n",
       "      <td>[{\"_value\":\"Ms Angela Eagle\"}]</td>\n",
       "      <td>House of Commons Tabled Parliamentary Question...</td>\n",
       "      <td>36951</td>\n",
       "    </tr>\n",
       "    <tr>\n",
       "      <th>2</th>\n",
       "      <td>{\"_value\":\"2016-05-12\",\"_datatype\":\"dateTime\"}</td>\n",
       "      <td>[{\"_value\":\"Department for Business, Innovatio...</td>\n",
       "      <td>http://data.parliament.uk/resources/518375</td>\n",
       "      <td>{\"_value\":\"2016-05-10\",\"_datatype\":\"dateTime\"}</td>\n",
       "      <td>To ask the Secretary of State for Business, In...</td>\n",
       "      <td>{\"_about\":\"http://data.parliament.uk/members/4...</td>\n",
       "      <td>[{\"_value\":\"Ms Angela Eagle\"}]</td>\n",
       "      <td>House of Commons Tabled Parliamentary Question...</td>\n",
       "      <td>36970</td>\n",
       "    </tr>\n",
       "  </tbody>\n",
       "</table>\n",
       "</div>"
      ],
      "text/plain": [
       "                                       AnswerDate  \\\n",
       "0  {\"_value\":\"2016-05-12\",\"_datatype\":\"dateTime\"}   \n",
       "1  {\"_value\":\"2016-05-12\",\"_datatype\":\"dateTime\"}   \n",
       "2  {\"_value\":\"2016-05-12\",\"_datatype\":\"dateTime\"}   \n",
       "\n",
       "                                       AnsweringBody  \\\n",
       "0                      [{\"_value\":\"Prime Minister\"}]   \n",
       "1  [{\"_value\":\"Department for Business, Innovatio...   \n",
       "2  [{\"_value\":\"Department for Business, Innovatio...   \n",
       "\n",
       "                                       _about  \\\n",
       "0  http://data.parliament.uk/resources/518530   \n",
       "1  http://data.parliament.uk/resources/518374   \n",
       "2  http://data.parliament.uk/resources/518375   \n",
       "\n",
       "                                       dateTabled  \\\n",
       "0  {\"_value\":\"2016-05-11\",\"_datatype\":\"dateTime\"}   \n",
       "1  {\"_value\":\"2016-05-10\",\"_datatype\":\"dateTime\"}   \n",
       "2  {\"_value\":\"2016-05-10\",\"_datatype\":\"dateTime\"}   \n",
       "\n",
       "                                        questionText  \\\n",
       "0  To ask the Prime Minister, if he will clarify ...   \n",
       "1  To ask the Secretary of State for Business, In...   \n",
       "2  To ask the Secretary of State for Business, In...   \n",
       "\n",
       "                                       tablingMember  \\\n",
       "0  {\"_about\":\"http://data.parliament.uk/members/1...   \n",
       "1  {\"_about\":\"http://data.parliament.uk/members/4...   \n",
       "2  {\"_about\":\"http://data.parliament.uk/members/4...   \n",
       "\n",
       "              tablingMemberPrinted  \\\n",
       "0  [{\"_value\":\"Mr Keith Simpson\"}]   \n",
       "1   [{\"_value\":\"Ms Angela Eagle\"}]   \n",
       "2   [{\"_value\":\"Ms Angela Eagle\"}]   \n",
       "\n",
       "                                               title    uin  \n",
       "0  House of Commons Tabled Parliamentary Question...  37017  \n",
       "1  House of Commons Tabled Parliamentary Question...  36951  \n",
       "2  House of Commons Tabled Parliamentary Question...  36970  "
      ]
     },
     "execution_count": 120,
     "metadata": {},
     "output_type": "execute_result"
    }
   ],
   "source": [
    "#What does the whole table look like?\n",
    "q=''' SELECT * from dfs.`/Users/ajh59/Dropbox/parlidata/notebooks/writtenQuestions.json` LIMIT 3'''\n",
    "drill.query(q).to_dataframe()"
   ]
  },
  {
   "cell_type": "code",
   "execution_count": 40,
   "metadata": {},
   "outputs": [
    {
     "data": {
      "text/html": [
       "<div>\n",
       "<style>\n",
       "    .dataframe thead tr:only-child th {\n",
       "        text-align: right;\n",
       "    }\n",
       "\n",
       "    .dataframe thead th {\n",
       "        text-align: left;\n",
       "    }\n",
       "\n",
       "    .dataframe tbody tr th {\n",
       "        vertical-align: top;\n",
       "    }\n",
       "</style>\n",
       "<table border=\"1\" class=\"dataframe\">\n",
       "  <thead>\n",
       "    <tr style=\"text-align: right;\">\n",
       "      <th></th>\n",
       "      <th>memberURL</th>\n",
       "    </tr>\n",
       "  </thead>\n",
       "  <tbody>\n",
       "    <tr>\n",
       "      <th>0</th>\n",
       "      <td>http://data.parliament.uk/members/126</td>\n",
       "    </tr>\n",
       "    <tr>\n",
       "      <th>1</th>\n",
       "      <td>http://data.parliament.uk/members/491</td>\n",
       "    </tr>\n",
       "    <tr>\n",
       "      <th>2</th>\n",
       "      <td>http://data.parliament.uk/members/491</td>\n",
       "    </tr>\n",
       "  </tbody>\n",
       "</table>\n",
       "</div>"
      ],
      "text/plain": [
       "                               memberURL\n",
       "0  http://data.parliament.uk/members/126\n",
       "1  http://data.parliament.uk/members/491\n",
       "2  http://data.parliament.uk/members/491"
      ]
     },
     "execution_count": 40,
     "metadata": {},
     "output_type": "execute_result"
    }
   ],
   "source": [
    "#Try to select a column\n",
    "q='''\n",
    "SELECT j.tablingMember._about AS memberURL \n",
    "FROM dfs.`/Users/ajh59/Dropbox/parlidata/notebooks/writtenQuestions.json` j LIMIT 3\n",
    "'''\n",
    "drill.query(q).to_dataframe()\n"
   ]
  },
  {
   "cell_type": "code",
   "execution_count": 41,
   "metadata": {},
   "outputs": [
    {
     "data": {
      "text/html": [
       "<div>\n",
       "<style>\n",
       "    .dataframe thead tr:only-child th {\n",
       "        text-align: right;\n",
       "    }\n",
       "\n",
       "    .dataframe thead th {\n",
       "        text-align: left;\n",
       "    }\n",
       "\n",
       "    .dataframe tbody tr th {\n",
       "        vertical-align: top;\n",
       "    }\n",
       "</style>\n",
       "<table border=\"1\" class=\"dataframe\">\n",
       "  <thead>\n",
       "    <tr style=\"text-align: right;\">\n",
       "      <th></th>\n",
       "      <th>Name</th>\n",
       "    </tr>\n",
       "  </thead>\n",
       "  <tbody>\n",
       "    <tr>\n",
       "      <th>0</th>\n",
       "      <td>Mr Keith Simpson</td>\n",
       "    </tr>\n",
       "    <tr>\n",
       "      <th>1</th>\n",
       "      <td>Ms Angela Eagle</td>\n",
       "    </tr>\n",
       "    <tr>\n",
       "      <th>2</th>\n",
       "      <td>Ms Angela Eagle</td>\n",
       "    </tr>\n",
       "  </tbody>\n",
       "</table>\n",
       "</div>"
      ],
      "text/plain": [
       "               Name\n",
       "0  Mr Keith Simpson\n",
       "1   Ms Angela Eagle\n",
       "2   Ms Angela Eagle"
      ]
     },
     "execution_count": 41,
     "metadata": {},
     "output_type": "execute_result"
    }
   ],
   "source": [
    "#Try to select an item from a list in a column\n",
    "q='''\n",
    "SELECT tablingMemberPrinted[0]._value AS Name \n",
    "FROM dfs.`/Users/ajh59/Dropbox/parlidata/notebooks/writtenQuestions.json` LIMIT 3\n",
    "'''\n",
    "drill.query(q).to_dataframe()\n"
   ]
  },
  {
   "cell_type": "code",
   "execution_count": 58,
   "metadata": {},
   "outputs": [
    {
     "data": {
      "text/html": [
       "<div>\n",
       "<style>\n",
       "    .dataframe thead tr:only-child th {\n",
       "        text-align: right;\n",
       "    }\n",
       "\n",
       "    .dataframe thead th {\n",
       "        text-align: left;\n",
       "    }\n",
       "\n",
       "    .dataframe tbody tr th {\n",
       "        vertical-align: top;\n",
       "    }\n",
       "</style>\n",
       "<table border=\"1\" class=\"dataframe\">\n",
       "  <thead>\n",
       "    <tr style=\"text-align: right;\">\n",
       "      <th></th>\n",
       "      <th>memberURL</th>\n",
       "    </tr>\n",
       "  </thead>\n",
       "  <tbody>\n",
       "    <tr>\n",
       "      <th>0</th>\n",
       "      <td>http://data.parliament.uk/members/126</td>\n",
       "    </tr>\n",
       "    <tr>\n",
       "      <th>1</th>\n",
       "      <td>http://data.parliament.uk/members/491</td>\n",
       "    </tr>\n",
       "    <tr>\n",
       "      <th>2</th>\n",
       "      <td>http://data.parliament.uk/members/4058</td>\n",
       "    </tr>\n",
       "    <tr>\n",
       "      <th>3</th>\n",
       "      <td>http://data.parliament.uk/members/4405</td>\n",
       "    </tr>\n",
       "    <tr>\n",
       "      <th>4</th>\n",
       "      <td>http://data.parliament.uk/members/1604</td>\n",
       "    </tr>\n",
       "  </tbody>\n",
       "</table>\n",
       "</div>"
      ],
      "text/plain": [
       "                                memberURL\n",
       "0   http://data.parliament.uk/members/126\n",
       "1   http://data.parliament.uk/members/491\n",
       "2  http://data.parliament.uk/members/4058\n",
       "3  http://data.parliament.uk/members/4405\n",
       "4  http://data.parliament.uk/members/1604"
      ]
     },
     "execution_count": 58,
     "metadata": {},
     "output_type": "execute_result"
    }
   ],
   "source": [
    "#Get a dataframe of all the member URLs - so we can get the data fro each from the Parliament data API\n",
    "q='''\n",
    "SELECT DISTINCT j.tablingMember._about AS memberURL \n",
    "FROM dfs.`/Users/ajh59/Dropbox/parlidata/notebooks/writtenQuestions.json` j\n",
    "'''\n",
    "memberIds = drill.query(q).to_dataframe()\n",
    "memberIds.head()\n"
   ]
  },
  {
   "cell_type": "code",
   "execution_count": 53,
   "metadata": {},
   "outputs": [
    {
     "data": {
      "text/plain": [
       "['http://lda.data.parliament.uk/members/126.json',\n",
       " 'http://lda.data.parliament.uk/members/491.json',\n",
       " 'http://lda.data.parliament.uk/members/4058.json']"
      ]
     },
     "execution_count": 53,
     "metadata": {},
     "output_type": "execute_result"
    }
   ],
   "source": [
    "#The URLs in the written question data donlt actually resolve - we need to tweak them\n",
    "#Generate a set of members who have tabled questions that have been answered\n",
    "#Note that the identifier Linked Data URL doesn't link... so patch it...\n",
    "members= ['{}.json'.format(i.replace('http://','http://lda.')) for i in memberIds['memberURL']]\n",
    "\n",
    "#Preview the links\n",
    "members[:3]"
   ]
  },
  {
   "cell_type": "code",
   "execution_count": null,
   "metadata": {},
   "outputs": [],
   "source": [
    "#Download the data files into a data directory\n",
    "!mkdir -p data/members\n",
    "for member in members:\n",
    "    !wget -quiet -P data/members {member}"
   ]
  },
  {
   "cell_type": "code",
   "execution_count": 55,
   "metadata": {},
   "outputs": [
    {
     "name": "stdout",
     "output_type": "stream",
     "text": [
      "103.json  1511.json 234.json  3987.json 4088.json 4367.json 4433.json 4500.json\r\n",
      "104.json  1516.json 242.json  3989.json 4090.json 4368.json 4434.json 4501.json\r\n",
      "112.json  1518.json 245.json  3990.json 4091.json 4369.json 4435.json 4502.json\r\n",
      "114.json  1521.json 249.json  3991.json 4092.json 437.json  4436.json 4503.json\r\n",
      "116.json  1522.json 253.json  3992.json 4093.json 4370.json 4437.json 4504.json\r\n",
      "117.json  1524.json 261.json  3994.json 4099.json 4371.json 4438.json 4505.json\r\n",
      "1171.json 1527.json 280.json  3997.json 410.json  4372.json 4440.json 4506.json\r\n",
      "12.json   1533.json 288.json  3998.json 4100.json 4374.json 4441.json 4507.json\r\n",
      "1200.json 1536.json 296.json  3999.json 4103.json 4375.json 4442.json 4508.json\r\n",
      "1211.json 1537.json 298.json  40.json   4104.json 4376.json 4443.json 4509.json\r\n",
      "126.json  1538.json 301.json  400.json  4108.json 4377.json 4444.json 451.json\r\n",
      "1383.json 1540.json 304.json  4000.json 4109.json 4378.json 4445.json 4510.json\r\n",
      "1384.json 1541.json 307.json  4003.json 411.json  4379.json 4446.json 4511.json\r\n",
      "1387.json 1545.json 308.json  4004.json 4111.json 4380.json 4447.json 4512.json\r\n",
      "1388.json 1546.json 312.json  4005.json 4113.json 4381.json 4448.json 4513.json\r\n",
      "1390.json 1547.json 316.json  4006.json 4114.json 4382.json 4449.json 4514.json\r\n",
      "1392.json 1548.json 318.json  4013.json 4119.json 4383.json 4450.json 4515.json\r\n",
      "1396.json 155.json  328.json  4015.json 4120.json 4384.json 4451.json 4516.json\r\n",
      "1397.json 1551.json 33.json   4019.json 4122.json 4385.json 4452.json 4517.json\r\n",
      "1398.json 1561.json 335.json  4022.json 4124.json 4386.json 4453.json 4518.json\r\n",
      "14.json   1563.json 337.json  4023.json 4125.json 4387.json 4454.json 4519.json\r\n",
      "140.json  1564.json 338.json  4025.json 4126.json 4388.json 4455.json 4520.json\r\n",
      "1400.json 1565.json 343.json  4026.json 4127.json 4389.json 4456.json 4521.json\r\n",
      "1405.json 1566.json 345.json  4028.json 4128.json 4390.json 4457.json 4522.json\r\n",
      "1409.json 1568.json 360.json  4029.json 4129.json 4392.json 4458.json 4523.json\r\n",
      "1424.json 1569.json 361.json  4030.json 413.json  4393.json 4459.json 4524.json\r\n",
      "1425.json 1576.json 364.json  4031.json 4130.json 4394.json 4460.json 4525.json\r\n",
      "1426.json 1577.json 373.json  4032.json 4131.json 4395.json 4461.json 4526.json\r\n",
      "1427.json 1579.json 376.json  4033.json 4132.json 4396.json 4462.json 4527.json\r\n",
      "1428.json 1581.json 389.json  4034.json 4133.json 4397.json 4463.json 4528.json\r\n",
      "1436.json 1582.json 3910.json 4035.json 4134.json 4398.json 4464.json 4529.json\r\n",
      "1437.json 1583.json 3911.json 4036.json 4135.json 4399.json 4465.json 4530.json\r\n",
      "1438.json 1585.json 3912.json 4037.json 4136.json 44.json   4466.json 4531.json\r\n",
      "1439.json 1586.json 3913.json 4038.json 4138.json 4400.json 4467.json 4532.json\r\n",
      "1441.json 1587.json 3914.json 4040.json 4139.json 4401.json 4468.json 454.json\r\n",
      "1442.json 1588.json 3915.json 4041.json 4140.json 4402.json 4469.json 4569.json\r\n",
      "1446.json 1591.json 3916.json 4042.json 415.json  4403.json 4470.json 458.json\r\n",
      "1447.json 1593.json 3917.json 4044.json 420.json  4404.json 4471.json 46.json\r",
      "\r\n",
      "1454.json 1594.json 3919.json 4046.json 4212.json 4405.json 4472.json 465.json\r\n",
      "146.json  1596.json 392.json  4048.json 422.json  4406.json 4473.json 47.json\r\n",
      "1462.json 1597.json 3921.json 4050.json 4243.json 4407.json 4474.json 473.json\r\n",
      "1463.json 16.json   3924.json 4051.json 4244.json 4408.json 4475.json 474.json\r\n",
      "1466.json 1601.json 3926.json 4052.json 4249.json 4409.json 4476.json 478.json\r\n",
      "1468.json 1603.json 3928.json 4053.json 4253.json 441.json  4477.json 481.json\r\n",
      "1470.json 1604.json 3930.json 4054.json 4263.json 4410.json 4478.json 483.json\r\n",
      "1474.json 1606.json 3932.json 4055.json 4264.json 4411.json 4479.json 484.json\r\n",
      "1476.json 1609.json 3933.json 4056.json 4267.json 4412.json 4480.json 491.json\r\n",
      "1478.json 161.json  3936.json 4057.json 4268.json 4413.json 4481.json 520.json\r\n",
      "1479.json 163.json  3939.json 4058.json 4269.json 4414.json 4482.json 523.json\r\n",
      "1480.json 165.json  394.json  4059.json 4277.json 4415.json 4483.json 529.json\r\n",
      "1481.json 166.json  3940.json 4060.json 429.json  4416.json 4484.json 533.json\r\n",
      "1482.json 167.json  3942.json 4061.json 43.json   4417.json 4485.json 54.json\r\n",
      "1484.json 172.json  3943.json 4062.json 4316.json 4418.json 4486.json 545.json\r\n",
      "1486.json 177.json  3944.json 4064.json 432.json  4419.json 4487.json 553.json\r\n",
      "1489.json 178.json  3948.json 4068.json 4320.json 4420.json 4488.json 577.json\r\n",
      "1490.json 18.json   3952.json 4069.json 4342.json 4421.json 4489.json 62.json\r\n",
      "1491.json 181.json  3953.json 4072.json 435.json  4422.json 449.json  650.json\r\n",
      "1493.json 185.json  3956.json 4073.json 4356.json 4423.json 4490.json 68.json\r\n",
      "1498.json 189.json  3957.json 4074.json 4357.json 4424.json 4491.json 69.json\r\n",
      "150.json  193.json  3958.json 4075.json 4358.json 4425.json 4492.json 76.json\r\n",
      "1501.json 197.json  3960.json 4076.json 4359.json 4426.json 4493.json 87.json\r\n",
      "1502.json 199.json  3966.json 4077.json 4360.json 4427.json 4494.json 95.json\r\n",
      "1503.json 2.json    3970.json 4079.json 4361.json 4428.json 4495.json\r\n",
      "1506.json 206.json  3972.json 4080.json 4362.json 4429.json 4496.json\r\n",
      "1508.json 210.json  3973.json 4081.json 4363.json 4430.json 4497.json\r\n",
      "151.json  223.json  3977.json 4082.json 4364.json 4431.json 4498.json\r\n",
      "1510.json 230.json  3986.json 4083.json 4365.json 4432.json 4499.json\r\n"
     ]
    }
   ],
   "source": [
    "!ls data/members"
   ]
  },
  {
   "cell_type": "code",
   "execution_count": 56,
   "metadata": {},
   "outputs": [
    {
     "name": "stdout",
     "output_type": "stream",
     "text": [
      "{ \"format\" : \"linked-data-api\", \"version\" : \"0.2\", \"result\" : {\"_about\" : \"http://lda.data.parliament.uk/members/1474.json\", \"definition\" : \"http://lda.data.parliament.uk/meta/members/_id.json\", \"extendedMetadataVersion\" : \"http://lda.data.parliament.uk/members/1474.json?_metadata=all\", \"primaryTopic\" : {\"_about\" : \"http://data.parliament.uk/members/1474\", \"constituency\" : {\"_about\" : \"http://data.parliament.uk/resources/147335\", \"label\" : {\"_value\" : \"Ynys Môn\"}\r\n",
      "      }\r\n",
      "      , \"familyName\" : {\"_value\" : \"Owen\"}\r\n",
      "      , \"fullName\" : {\"_value\" : \"Albert Owen\"}\r\n",
      "      , \"gender\" : {\"_value\" : \"Male\"}\r\n",
      "      , \"givenName\" : {\"_value\" : \"Albert\"}\r\n",
      "      , \"homePage\" : \"http://albertowenmp.org/\", \"isPrimaryTopicOf\" : \"http://lda.data.parliament.uk/members/1474.json\", \"label\" : {\"_value\" : \"Biography information for Albert Owen\"}\r\n",
      "      , \"party\" : {\"_value\" : \"Labour\"}\r\n",
      "      , \"twitter\" : {\"_value\" : \"https://twitter.com/AlbertOwenMP\"}\r\n",
      "    }\r\n"
     ]
    }
   ],
   "source": [
    "#Preview one of the files\n",
    "!head data/members/1474.json"
   ]
  },
  {
   "cell_type": "markdown",
   "metadata": {},
   "source": [
    "Apache Drill can query over multiple files in the same directory, so let's try that...\n",
    "\n",
    "Query over all the downloaded member JSON files to create a dataframe to pull out the gender for each member ID URL."
   ]
  },
  {
   "cell_type": "code",
   "execution_count": 115,
   "metadata": {},
   "outputs": [
    {
     "data": {
      "text/html": [
       "<div>\n",
       "<style>\n",
       "    .dataframe thead tr:only-child th {\n",
       "        text-align: right;\n",
       "    }\n",
       "\n",
       "    .dataframe thead th {\n",
       "        text-align: left;\n",
       "    }\n",
       "\n",
       "    .dataframe tbody tr th {\n",
       "        vertical-align: top;\n",
       "    }\n",
       "</style>\n",
       "<table border=\"1\" class=\"dataframe\">\n",
       "  <thead>\n",
       "    <tr style=\"text-align: right;\">\n",
       "      <th></th>\n",
       "      <th>gender</th>\n",
       "      <th>url</th>\n",
       "    </tr>\n",
       "  </thead>\n",
       "  <tbody>\n",
       "    <tr>\n",
       "      <th>0</th>\n",
       "      <td>Male</td>\n",
       "      <td>http://lda.data.parliament.uk/members/103.json</td>\n",
       "    </tr>\n",
       "    <tr>\n",
       "      <th>1</th>\n",
       "      <td>Male</td>\n",
       "      <td>http://lda.data.parliament.uk/members/104.json</td>\n",
       "    </tr>\n",
       "    <tr>\n",
       "      <th>2</th>\n",
       "      <td>Male</td>\n",
       "      <td>http://lda.data.parliament.uk/members/112.json</td>\n",
       "    </tr>\n",
       "    <tr>\n",
       "      <th>3</th>\n",
       "      <td>Male</td>\n",
       "      <td>http://lda.data.parliament.uk/members/114.json</td>\n",
       "    </tr>\n",
       "    <tr>\n",
       "      <th>4</th>\n",
       "      <td>Male</td>\n",
       "      <td>http://lda.data.parliament.uk/members/116.json</td>\n",
       "    </tr>\n",
       "  </tbody>\n",
       "</table>\n",
       "</div>"
      ],
      "text/plain": [
       "  gender                                             url\n",
       "0   Male  http://lda.data.parliament.uk/members/103.json\n",
       "1   Male  http://lda.data.parliament.uk/members/104.json\n",
       "2   Male  http://lda.data.parliament.uk/members/112.json\n",
       "3   Male  http://lda.data.parliament.uk/members/114.json\n",
       "4   Male  http://lda.data.parliament.uk/members/116.json"
      ]
     },
     "execution_count": 115,
     "metadata": {},
     "output_type": "execute_result"
    }
   ],
   "source": [
    "q=''' SELECT j.`result`.primaryTopic.gender._value AS gender,\n",
    "j.`result`._about AS url\n",
    "FROM dfs.`/Users/ajh59/Dropbox/parlidata/notebooks/data/members` j'''\n",
    "membersdf=drill.query(q).to_dataframe()\n",
    "membersdf.head()"
   ]
  },
  {
   "cell_type": "markdown",
   "metadata": {},
   "source": [
    "Now we need to remap those URLs onto URLs of the form used in the Written Questions data."
   ]
  },
  {
   "cell_type": "code",
   "execution_count": 117,
   "metadata": {},
   "outputs": [
    {
     "name": "stdout",
     "output_type": "stream",
     "text": [
      "gender,url,fixedurl\r\n",
      "Male,http://lda.data.parliament.uk/members/103.json,http://data.parliament.uk/members/103\r\n",
      "Male,http://lda.data.parliament.uk/members/104.json,http://data.parliament.uk/members/104\r\n",
      "Male,http://lda.data.parliament.uk/members/112.json,http://data.parliament.uk/members/112\r\n",
      "Male,http://lda.data.parliament.uk/members/114.json,http://data.parliament.uk/members/114\r\n",
      "Male,http://lda.data.parliament.uk/members/116.json,http://data.parliament.uk/members/116\r\n",
      "Male,http://lda.data.parliament.uk/members/117.json,http://data.parliament.uk/members/117\r\n",
      "Male,http://lda.data.parliament.uk/members/1171.json,http://data.parliament.uk/members/1171\r\n",
      "Female,http://lda.data.parliament.uk/members/12.json,http://data.parliament.uk/members/12\r\n",
      "Male,http://lda.data.parliament.uk/members/1200.json,http://data.parliament.uk/members/1200\r\n"
     ]
    }
   ],
   "source": [
    "#Lets reverse the URL to the same form as in the written questions - then we can use this for a JOIN\n",
    "membersdf['fixedurl']=membersdf['url'].str.replace('http://lda.','http://').str.replace('.json','')\n",
    "#Save the data as a CSV file\n",
    "membersdf.to_csv('data/members.csv',index=False)\n",
    "!head data/members.csv"
   ]
  },
  {
   "cell_type": "markdown",
   "metadata": {},
   "source": [
    "## Querying Over JOINed JSON and CSV Files\n",
    "\n",
    "Let's see if we can now run a query over the joined monolithic wirtten questions JSON data file and the members CSV data file we created."
   ]
  },
  {
   "cell_type": "code",
   "execution_count": 119,
   "metadata": {},
   "outputs": [
    {
     "data": {
      "text/html": [
       "<div>\n",
       "<style>\n",
       "    .dataframe thead tr:only-child th {\n",
       "        text-align: right;\n",
       "    }\n",
       "\n",
       "    .dataframe thead th {\n",
       "        text-align: left;\n",
       "    }\n",
       "\n",
       "    .dataframe tbody tr th {\n",
       "        vertical-align: top;\n",
       "    }\n",
       "</style>\n",
       "<table border=\"1\" class=\"dataframe\">\n",
       "  <thead>\n",
       "    <tr style=\"text-align: right;\">\n",
       "      <th></th>\n",
       "      <th>gender</th>\n",
       "      <th>memberURL</th>\n",
       "    </tr>\n",
       "  </thead>\n",
       "  <tbody>\n",
       "    <tr>\n",
       "      <th>0</th>\n",
       "      <td>Male</td>\n",
       "      <td>http://data.parliament.uk/members/126</td>\n",
       "    </tr>\n",
       "    <tr>\n",
       "      <th>1</th>\n",
       "      <td>Female</td>\n",
       "      <td>http://data.parliament.uk/members/491</td>\n",
       "    </tr>\n",
       "    <tr>\n",
       "      <th>2</th>\n",
       "      <td>Male</td>\n",
       "      <td>http://data.parliament.uk/members/4058</td>\n",
       "    </tr>\n",
       "  </tbody>\n",
       "</table>\n",
       "</div>"
      ],
      "text/plain": [
       "   gender                               memberURL\n",
       "0    Male   http://data.parliament.uk/members/126\n",
       "1  Female   http://data.parliament.uk/members/491\n",
       "2    Male  http://data.parliament.uk/members/4058"
      ]
     },
     "execution_count": 119,
     "metadata": {},
     "output_type": "execute_result"
    }
   ],
   "source": [
    "#Now find the gender of a question asker - join a query over the monolithic JSON file with the CSV file\n",
    "q=''' SELECT DISTINCT j.tablingMember._about AS memberURL, m.gender\n",
    "FROM dfs.`/Users/ajh59/Dropbox/parlidata/notebooks/writtenQuestions.json` j \n",
    "JOIN dfs.`/Users/ajh59/Dropbox/parlidata/notebooks/data/members.csv` m\n",
    "ON j.tablingMember._about = m.fixedurl\n",
    "LIMIT 3'''\n",
    "drill.query(q).to_dataframe()"
   ]
  },
  {
   "cell_type": "markdown",
   "metadata": {},
   "source": [
    "## JOINing Across A Monolithic JSON file and a Directory of Files with Regularly Mismatched Keys\n",
    "\n",
    "That's a clunky route round though... Can we actually do a JOIN between the monolithc written answers JSON file and the separate members JSON files, hacking the member ID URL into the correct form as part of the ON condition?"
   ]
  },
  {
   "cell_type": "code",
   "execution_count": 125,
   "metadata": {},
   "outputs": [
    {
     "data": {
      "text/html": [
       "<div>\n",
       "<style>\n",
       "    .dataframe thead tr:only-child th {\n",
       "        text-align: right;\n",
       "    }\n",
       "\n",
       "    .dataframe thead th {\n",
       "        text-align: left;\n",
       "    }\n",
       "\n",
       "    .dataframe tbody tr th {\n",
       "        vertical-align: top;\n",
       "    }\n",
       "</style>\n",
       "<table border=\"1\" class=\"dataframe\">\n",
       "  <thead>\n",
       "    <tr style=\"text-align: right;\">\n",
       "      <th></th>\n",
       "      <th>gender</th>\n",
       "      <th>memberURL</th>\n",
       "      <th>url</th>\n",
       "    </tr>\n",
       "  </thead>\n",
       "  <tbody>\n",
       "    <tr>\n",
       "      <th>0</th>\n",
       "      <td>Male</td>\n",
       "      <td>http://data.parliament.uk/members/126</td>\n",
       "      <td>http://lda.data.parliament.uk/members/126.json</td>\n",
       "    </tr>\n",
       "    <tr>\n",
       "      <th>1</th>\n",
       "      <td>Female</td>\n",
       "      <td>http://data.parliament.uk/members/491</td>\n",
       "      <td>http://lda.data.parliament.uk/members/491.json</td>\n",
       "    </tr>\n",
       "    <tr>\n",
       "      <th>2</th>\n",
       "      <td>Male</td>\n",
       "      <td>http://data.parliament.uk/members/4058</td>\n",
       "      <td>http://lda.data.parliament.uk/members/4058.json</td>\n",
       "    </tr>\n",
       "  </tbody>\n",
       "</table>\n",
       "</div>"
      ],
      "text/plain": [
       "   gender                               memberURL  \\\n",
       "0    Male   http://data.parliament.uk/members/126   \n",
       "1  Female   http://data.parliament.uk/members/491   \n",
       "2    Male  http://data.parliament.uk/members/4058   \n",
       "\n",
       "                                               url  \n",
       "0   http://lda.data.parliament.uk/members/126.json  \n",
       "1   http://lda.data.parliament.uk/members/491.json  \n",
       "2  http://lda.data.parliament.uk/members/4058.json  "
      ]
     },
     "execution_count": 125,
     "metadata": {},
     "output_type": "execute_result"
    }
   ],
   "source": [
    "#Let's see if we can modify the URL in the spearate JSON files so we can join with the monolithic file\n",
    "q=''' SELECT DISTINCT j.tablingMember._about AS memberURL,\n",
    "m.`result`.primaryTopic.gender._value AS gender,\n",
    "m.`result`._about AS url\n",
    "FROM dfs.`{path}/writtenQuestions.json` j \n",
    "JOIN dfs.`{path}/data/members` m\n",
    "ON j.tablingMember._about = REGEXP_REPLACE(REGEXP_REPLACE(m.`result`._about,'http://lda.','http://'),'\\.json','')\n",
    "LIMIT 3'''.format(path='/Users/ajh59/Dropbox/parlidata/notebooks')\n",
    "drill.query(q).to_dataframe()\n"
   ]
  },
  {
   "cell_type": "markdown",
   "metadata": {},
   "source": [
    "Now let's do some counting... in the session for which we downloaded the data, how many written questions were tabled by gender, in total?"
   ]
  },
  {
   "cell_type": "code",
   "execution_count": 126,
   "metadata": {},
   "outputs": [
    {
     "data": {
      "text/html": [
       "<div>\n",
       "<style>\n",
       "    .dataframe thead tr:only-child th {\n",
       "        text-align: right;\n",
       "    }\n",
       "\n",
       "    .dataframe thead th {\n",
       "        text-align: left;\n",
       "    }\n",
       "\n",
       "    .dataframe tbody tr th {\n",
       "        vertical-align: top;\n",
       "    }\n",
       "</style>\n",
       "<table border=\"1\" class=\"dataframe\">\n",
       "  <thead>\n",
       "    <tr style=\"text-align: right;\">\n",
       "      <th></th>\n",
       "      <th>Number</th>\n",
       "      <th>gender</th>\n",
       "    </tr>\n",
       "  </thead>\n",
       "  <tbody>\n",
       "    <tr>\n",
       "      <th>0</th>\n",
       "      <td>25573</td>\n",
       "      <td>Male</td>\n",
       "    </tr>\n",
       "    <tr>\n",
       "      <th>1</th>\n",
       "      <td>11605</td>\n",
       "      <td>Female</td>\n",
       "    </tr>\n",
       "  </tbody>\n",
       "</table>\n",
       "</div>"
      ],
      "text/plain": [
       "  Number  gender\n",
       "0  25573    Male\n",
       "1  11605  Female"
      ]
     },
     "execution_count": 126,
     "metadata": {},
     "output_type": "execute_result"
    }
   ],
   "source": [
    "q=''' SELECT COUNT(*) AS Number,\n",
    "m.`result`.primaryTopic.gender._value AS gender\n",
    "FROM dfs.`{path}/writtenQuestions.json` j \n",
    "JOIN dfs.`{path}/data/members` m\n",
    "ON j.tablingMember._about = REGEXP_REPLACE(REGEXP_REPLACE(m.`result`._about,'http://lda.','http://'),'\\.json','')\n",
    "GROUP BY m.`result`.primaryTopic.gender._value'''.format(path='/Users/ajh59/Dropbox/parlidata/notebooks')\n",
    "drill.query(q).to_dataframe()\n"
   ]
  },
  {
   "cell_type": "markdown",
   "metadata": {},
   "source": [
    "How many per person, by gender?"
   ]
  },
  {
   "cell_type": "code",
   "execution_count": 131,
   "metadata": {},
   "outputs": [
    {
     "data": {
      "text/html": [
       "<div>\n",
       "<style>\n",
       "    .dataframe thead tr:only-child th {\n",
       "        text-align: right;\n",
       "    }\n",
       "\n",
       "    .dataframe thead th {\n",
       "        text-align: left;\n",
       "    }\n",
       "\n",
       "    .dataframe tbody tr th {\n",
       "        vertical-align: top;\n",
       "    }\n",
       "</style>\n",
       "<table border=\"1\" class=\"dataframe\">\n",
       "  <thead>\n",
       "    <tr style=\"text-align: right;\">\n",
       "      <th></th>\n",
       "      <th>Name</th>\n",
       "      <th>Number</th>\n",
       "      <th>gender</th>\n",
       "    </tr>\n",
       "  </thead>\n",
       "  <tbody>\n",
       "    <tr>\n",
       "      <th>0</th>\n",
       "      <td>Mr Keith Simpson</td>\n",
       "      <td>2</td>\n",
       "      <td>Male</td>\n",
       "    </tr>\n",
       "    <tr>\n",
       "      <th>1</th>\n",
       "      <td>Ms Angela Eagle</td>\n",
       "      <td>41</td>\n",
       "      <td>Female</td>\n",
       "    </tr>\n",
       "    <tr>\n",
       "      <th>2</th>\n",
       "      <td>Paul Blomfield</td>\n",
       "      <td>222</td>\n",
       "      <td>Male</td>\n",
       "    </tr>\n",
       "    <tr>\n",
       "      <th>3</th>\n",
       "      <td>Julie Cooper</td>\n",
       "      <td>194</td>\n",
       "      <td>Female</td>\n",
       "    </tr>\n",
       "    <tr>\n",
       "      <th>4</th>\n",
       "      <td>Mr Virendra Sharma</td>\n",
       "      <td>123</td>\n",
       "      <td>Male</td>\n",
       "    </tr>\n",
       "  </tbody>\n",
       "</table>\n",
       "</div>"
      ],
      "text/plain": [
       "                 Name Number  gender\n",
       "0    Mr Keith Simpson      2    Male\n",
       "1     Ms Angela Eagle     41  Female\n",
       "2      Paul Blomfield    222    Male\n",
       "3        Julie Cooper    194  Female\n",
       "4  Mr Virendra Sharma    123    Male"
      ]
     },
     "execution_count": 131,
     "metadata": {},
     "output_type": "execute_result"
    }
   ],
   "source": [
    "q=''' SELECT COUNT(*) AS Number, j.tablingMemberPrinted[0]._value AS Name,\n",
    "m.`result`.primaryTopic.gender._value AS gender\n",
    "FROM dfs.`{path}/writtenQuestions.json` j \n",
    "JOIN dfs.`{path}/data/members` m\n",
    "ON j.tablingMember._about = REGEXP_REPLACE(REGEXP_REPLACE(m.`result`._about,'http://lda.','http://'),'\\.json','')\n",
    "GROUP BY m.`result`.primaryTopic.gender._value, j.tablingMemberPrinted[0]._value \n",
    "'''.format(path='/Users/ajh59/Dropbox/parlidata/notebooks')\n",
    "\n",
    "drill.query(q).to_dataframe().head()"
   ]
  },
  {
   "cell_type": "markdown",
   "metadata": {},
   "source": [
    "Can we do the average too?"
   ]
  },
  {
   "cell_type": "code",
   "execution_count": 134,
   "metadata": {},
   "outputs": [
    {
     "data": {
      "text/html": [
       "<div>\n",
       "<style>\n",
       "    .dataframe thead tr:only-child th {\n",
       "        text-align: right;\n",
       "    }\n",
       "\n",
       "    .dataframe thead th {\n",
       "        text-align: left;\n",
       "    }\n",
       "\n",
       "    .dataframe tbody tr th {\n",
       "        vertical-align: top;\n",
       "    }\n",
       "</style>\n",
       "<table border=\"1\" class=\"dataframe\">\n",
       "  <thead>\n",
       "    <tr style=\"text-align: right;\">\n",
       "      <th></th>\n",
       "      <th>average</th>\n",
       "      <th>gender</th>\n",
       "    </tr>\n",
       "  </thead>\n",
       "  <tbody>\n",
       "    <tr>\n",
       "      <th>0</th>\n",
       "      <td>68.5603217158177</td>\n",
       "      <td>Male</td>\n",
       "    </tr>\n",
       "    <tr>\n",
       "      <th>1</th>\n",
       "      <td>69.49101796407186</td>\n",
       "      <td>Female</td>\n",
       "    </tr>\n",
       "  </tbody>\n",
       "</table>\n",
       "</div>"
      ],
      "text/plain": [
       "             average  gender\n",
       "0   68.5603217158177    Male\n",
       "1  69.49101796407186  Female"
      ]
     },
     "execution_count": 134,
     "metadata": {},
     "output_type": "execute_result"
    }
   ],
   "source": [
    "q='''\n",
    "SELECT AVG(Number) AS average, gender\n",
    "FROM (SELECT COUNT(*) AS Number, j.tablingMemberPrinted[0]._value AS Name,\n",
    "    m.`result`.primaryTopic.gender._value AS gender\n",
    "    FROM dfs.`{path}/writtenQuestions.json` j \n",
    "    JOIN dfs.`{path}/data/members` m\n",
    "    ON j.tablingMember._about = REGEXP_REPLACE(REGEXP_REPLACE(m.`result`._about,'http://lda.','http://'),'\\.json','')\n",
    "    GROUP BY m.`result`.primaryTopic.gender._value, j.tablingMemberPrinted[0]._value )\n",
    "GROUP BY gender\n",
    "'''.format(path='/Users/ajh59/Dropbox/parlidata/notebooks')\n",
    "\n",
    "drill.query(q).to_dataframe()"
   ]
  },
  {
   "cell_type": "markdown",
   "metadata": {},
   "source": [
    "How about by party?"
   ]
  },
  {
   "cell_type": "code",
   "execution_count": 143,
   "metadata": {},
   "outputs": [
    {
     "data": {
      "text/html": [
       "<div>\n",
       "<style>\n",
       "    .dataframe thead tr:only-child th {\n",
       "        text-align: right;\n",
       "    }\n",
       "\n",
       "    .dataframe thead th {\n",
       "        text-align: left;\n",
       "    }\n",
       "\n",
       "    .dataframe tbody tr th {\n",
       "        vertical-align: top;\n",
       "    }\n",
       "</style>\n",
       "<table border=\"1\" class=\"dataframe\">\n",
       "  <thead>\n",
       "    <tr style=\"text-align: right;\">\n",
       "      <th></th>\n",
       "      <th>average</th>\n",
       "      <th>party</th>\n",
       "    </tr>\n",
       "  </thead>\n",
       "  <tbody>\n",
       "    <tr>\n",
       "      <th>0</th>\n",
       "      <td>35.646288</td>\n",
       "      <td>Conservative</td>\n",
       "    </tr>\n",
       "    <tr>\n",
       "      <th>1</th>\n",
       "      <td>100.336683</td>\n",
       "      <td>Labour</td>\n",
       "    </tr>\n",
       "    <tr>\n",
       "      <th>2</th>\n",
       "      <td>135.125000</td>\n",
       "      <td>Liberal Democrat</td>\n",
       "    </tr>\n",
       "    <tr>\n",
       "      <th>3</th>\n",
       "      <td>198.000000</td>\n",
       "      <td>Democratic Unionist Party</td>\n",
       "    </tr>\n",
       "    <tr>\n",
       "      <th>4</th>\n",
       "      <td>103.041667</td>\n",
       "      <td>Labour (Co-op)</td>\n",
       "    </tr>\n",
       "    <tr>\n",
       "      <th>5</th>\n",
       "      <td>49.293103</td>\n",
       "      <td>Scottish National Party</td>\n",
       "    </tr>\n",
       "    <tr>\n",
       "      <th>6</th>\n",
       "      <td>185.000000</td>\n",
       "      <td>UK Independence Party</td>\n",
       "    </tr>\n",
       "    <tr>\n",
       "      <th>7</th>\n",
       "      <td>28.500000</td>\n",
       "      <td>Independent</td>\n",
       "    </tr>\n",
       "    <tr>\n",
       "      <th>8</th>\n",
       "      <td>36.666667</td>\n",
       "      <td>Plaid Cymru</td>\n",
       "    </tr>\n",
       "    <tr>\n",
       "      <th>9</th>\n",
       "      <td>71.666667</td>\n",
       "      <td>Social Democratic &amp; Labour Party</td>\n",
       "    </tr>\n",
       "    <tr>\n",
       "      <th>10</th>\n",
       "      <td>265.000000</td>\n",
       "      <td>Green Party</td>\n",
       "    </tr>\n",
       "    <tr>\n",
       "      <th>11</th>\n",
       "      <td>81.000000</td>\n",
       "      <td>Ulster Unionist Party</td>\n",
       "    </tr>\n",
       "  </tbody>\n",
       "</table>\n",
       "</div>"
      ],
      "text/plain": [
       "       average                             party\n",
       "0    35.646288                      Conservative\n",
       "1   100.336683                            Labour\n",
       "2   135.125000                  Liberal Democrat\n",
       "3   198.000000         Democratic Unionist Party\n",
       "4   103.041667                    Labour (Co-op)\n",
       "5    49.293103           Scottish National Party\n",
       "6   185.000000             UK Independence Party\n",
       "7    28.500000                       Independent\n",
       "8    36.666667                       Plaid Cymru\n",
       "9    71.666667  Social Democratic & Labour Party\n",
       "10  265.000000                       Green Party\n",
       "11   81.000000             Ulster Unionist Party"
      ]
     },
     "execution_count": 143,
     "metadata": {},
     "output_type": "execute_result"
    }
   ],
   "source": [
    "q='''\n",
    "SELECT AVG(Number) AS average, party\n",
    "FROM (SELECT COUNT(*) AS Number, j.tablingMemberPrinted[0]._value AS Name,\n",
    "    m.`result`.primaryTopic.party._value AS party\n",
    "    FROM dfs.`{path}/writtenQuestions.json` j \n",
    "    JOIN dfs.`{path}/data/members` m\n",
    "    ON j.tablingMember._about = REGEXP_REPLACE(REGEXP_REPLACE(m.`result`._about,'http://lda.','http://'),'\\.json','')\n",
    "    GROUP BY m.`result`.primaryTopic.party._value, j.tablingMemberPrinted[0]._value )\n",
    "GROUP BY party\n",
    "'''.format(path='/Users/ajh59/Dropbox/parlidata/notebooks')\n",
    "\n",
    "dq=drill.query(q).to_dataframe()\n",
    "dq['average']=dq['average'].astype(float)\n",
    "dq"
   ]
  },
  {
   "cell_type": "code",
   "execution_count": 150,
   "metadata": {},
   "outputs": [
    {
     "data": {
      "image/png": "[encoded data removed]",
      "text/plain": [
       "<matplotlib.figure.Figure at 0x1106aa860>"
      ]
     },
     "metadata": {},
     "output_type": "display_data"
    }
   ],
   "source": [
    "dq.set_index('party').sort_values(by='average').plot(kind=\"barh\");"
   ]
  },
  {
   "cell_type": "markdown",
   "metadata": {},
   "source": [
    "Party and gender?"
   ]
  },
  {
   "cell_type": "code",
   "execution_count": 152,
   "metadata": {},
   "outputs": [
    {
     "data": {
      "text/html": [
       "<div>\n",
       "<style>\n",
       "    .dataframe thead tr:only-child th {\n",
       "        text-align: right;\n",
       "    }\n",
       "\n",
       "    .dataframe thead th {\n",
       "        text-align: left;\n",
       "    }\n",
       "\n",
       "    .dataframe tbody tr th {\n",
       "        vertical-align: top;\n",
       "    }\n",
       "</style>\n",
       "<table border=\"1\" class=\"dataframe\">\n",
       "  <thead>\n",
       "    <tr style=\"text-align: right;\">\n",
       "      <th></th>\n",
       "      <th>average</th>\n",
       "      <th>gender</th>\n",
       "      <th>party</th>\n",
       "    </tr>\n",
       "  </thead>\n",
       "  <tbody>\n",
       "    <tr>\n",
       "      <th>0</th>\n",
       "      <td>36.918478</td>\n",
       "      <td>Male</td>\n",
       "      <td>Conservative</td>\n",
       "    </tr>\n",
       "    <tr>\n",
       "      <th>1</th>\n",
       "      <td>91.453488</td>\n",
       "      <td>Female</td>\n",
       "      <td>Labour</td>\n",
       "    </tr>\n",
       "    <tr>\n",
       "      <th>2</th>\n",
       "      <td>107.097345</td>\n",
       "      <td>Male</td>\n",
       "      <td>Labour</td>\n",
       "    </tr>\n",
       "    <tr>\n",
       "      <th>3</th>\n",
       "      <td>135.125000</td>\n",
       "      <td>Male</td>\n",
       "      <td>Liberal Democrat</td>\n",
       "    </tr>\n",
       "    <tr>\n",
       "      <th>4</th>\n",
       "      <td>198.000000</td>\n",
       "      <td>Male</td>\n",
       "      <td>Democratic Unionist Party</td>\n",
       "    </tr>\n",
       "    <tr>\n",
       "      <th>5</th>\n",
       "      <td>30.444444</td>\n",
       "      <td>Female</td>\n",
       "      <td>Conservative</td>\n",
       "    </tr>\n",
       "    <tr>\n",
       "      <th>6</th>\n",
       "      <td>109.700000</td>\n",
       "      <td>Female</td>\n",
       "      <td>Labour (Co-op)</td>\n",
       "    </tr>\n",
       "    <tr>\n",
       "      <th>7</th>\n",
       "      <td>55.815789</td>\n",
       "      <td>Male</td>\n",
       "      <td>Scottish National Party</td>\n",
       "    </tr>\n",
       "    <tr>\n",
       "      <th>8</th>\n",
       "      <td>185.000000</td>\n",
       "      <td>Male</td>\n",
       "      <td>UK Independence Party</td>\n",
       "    </tr>\n",
       "    <tr>\n",
       "      <th>9</th>\n",
       "      <td>36.900000</td>\n",
       "      <td>Female</td>\n",
       "      <td>Scottish National Party</td>\n",
       "    </tr>\n",
       "    <tr>\n",
       "      <th>10</th>\n",
       "      <td>98.285714</td>\n",
       "      <td>Male</td>\n",
       "      <td>Labour (Co-op)</td>\n",
       "    </tr>\n",
       "    <tr>\n",
       "      <th>11</th>\n",
       "      <td>31.666667</td>\n",
       "      <td>Female</td>\n",
       "      <td>Independent</td>\n",
       "    </tr>\n",
       "    <tr>\n",
       "      <th>12</th>\n",
       "      <td>36.000000</td>\n",
       "      <td>Male</td>\n",
       "      <td>Plaid Cymru</td>\n",
       "    </tr>\n",
       "    <tr>\n",
       "      <th>13</th>\n",
       "      <td>39.000000</td>\n",
       "      <td>Male</td>\n",
       "      <td>Social Democratic &amp; Labour Party</td>\n",
       "    </tr>\n",
       "    <tr>\n",
       "      <th>14</th>\n",
       "      <td>137.000000</td>\n",
       "      <td>Female</td>\n",
       "      <td>Social Democratic &amp; Labour Party</td>\n",
       "    </tr>\n",
       "    <tr>\n",
       "      <th>15</th>\n",
       "      <td>265.000000</td>\n",
       "      <td>Female</td>\n",
       "      <td>Green Party</td>\n",
       "    </tr>\n",
       "    <tr>\n",
       "      <th>16</th>\n",
       "      <td>81.000000</td>\n",
       "      <td>Male</td>\n",
       "      <td>Ulster Unionist Party</td>\n",
       "    </tr>\n",
       "    <tr>\n",
       "      <th>17</th>\n",
       "      <td>38.000000</td>\n",
       "      <td>Female</td>\n",
       "      <td>Plaid Cymru</td>\n",
       "    </tr>\n",
       "    <tr>\n",
       "      <th>18</th>\n",
       "      <td>19.000000</td>\n",
       "      <td>Male</td>\n",
       "      <td>Independent</td>\n",
       "    </tr>\n",
       "  </tbody>\n",
       "</table>\n",
       "</div>"
      ],
      "text/plain": [
       "       average  gender                             party\n",
       "0    36.918478    Male                      Conservative\n",
       "1    91.453488  Female                            Labour\n",
       "2   107.097345    Male                            Labour\n",
       "3   135.125000    Male                  Liberal Democrat\n",
       "4   198.000000    Male         Democratic Unionist Party\n",
       "5    30.444444  Female                      Conservative\n",
       "6   109.700000  Female                    Labour (Co-op)\n",
       "7    55.815789    Male           Scottish National Party\n",
       "8   185.000000    Male             UK Independence Party\n",
       "9    36.900000  Female           Scottish National Party\n",
       "10   98.285714    Male                    Labour (Co-op)\n",
       "11   31.666667  Female                       Independent\n",
       "12   36.000000    Male                       Plaid Cymru\n",
       "13   39.000000    Male  Social Democratic & Labour Party\n",
       "14  137.000000  Female  Social Democratic & Labour Party\n",
       "15  265.000000  Female                       Green Party\n",
       "16   81.000000    Male             Ulster Unionist Party\n",
       "17   38.000000  Female                       Plaid Cymru\n",
       "18   19.000000    Male                       Independent"
      ]
     },
     "execution_count": 152,
     "metadata": {},
     "output_type": "execute_result"
    }
   ],
   "source": [
    "q='''\n",
    "SELECT AVG(Number) AS average, party, gender\n",
    "FROM (SELECT COUNT(*) AS Number, j.tablingMemberPrinted[0]._value AS Name,\n",
    "    m.`result`.primaryTopic.party._value AS party,\n",
    "    m.`result`.primaryTopic.gender._value AS gender\n",
    "    FROM dfs.`{path}/writtenQuestions.json` j \n",
    "    JOIN dfs.`{path}/data/members` m\n",
    "    ON j.tablingMember._about = REGEXP_REPLACE(REGEXP_REPLACE(m.`result`._about,'http://lda.','http://'),'\\.json','')\n",
    "    GROUP BY m.`result`.primaryTopic.party._value, m.`result`.primaryTopic.gender._value, j.tablingMemberPrinted[0]._value )\n",
    "GROUP BY party, gender\n",
    "'''.format(path='/Users/ajh59/Dropbox/parlidata/notebooks')\n",
    "\n",
    "dq=drill.query(q).to_dataframe()\n",
    "dq['average']=dq['average'].astype(float)\n",
    "dq"
   ]
  },
  {
   "cell_type": "code",
   "execution_count": 153,
   "metadata": {},
   "outputs": [
    {
     "data": {
      "image/png": "[encoded data removed]",
      "text/plain": [
       "<matplotlib.figure.Figure at 0x110897f98>"
      ]
     },
     "metadata": {},
     "output_type": "display_data"
    }
   ],
   "source": [
    "dq.set_index(['party','gender']).sort_values(by='average').plot(kind=\"barh\");"
   ]
  },
  {
   "cell_type": "code",
   "execution_count": 161,
   "metadata": {},
   "outputs": [
    {
     "data": {
      "image/png": "[encoded data removed]",
      "text/plain": [
       "<matplotlib.figure.Figure at 0x110ca1f60>"
      ]
     },
     "metadata": {},
     "output_type": "display_data"
    }
   ],
   "source": [
    "dq.sort_values(by=['gender','average']).set_index(['party','gender']).plot(kind=\"barh\");"
   ]
  },
  {
   "cell_type": "code",
   "execution_count": 169,
   "metadata": {},
   "outputs": [
    {
     "data": {
      "text/html": [
       "<div>\n",
       "<style>\n",
       "    .dataframe thead tr:only-child th {\n",
       "        text-align: right;\n",
       "    }\n",
       "\n",
       "    .dataframe thead th {\n",
       "        text-align: left;\n",
       "    }\n",
       "\n",
       "    .dataframe tbody tr th {\n",
       "        vertical-align: top;\n",
       "    }\n",
       "</style>\n",
       "<table border=\"1\" class=\"dataframe\">\n",
       "  <thead>\n",
       "    <tr style=\"text-align: right;\">\n",
       "      <th>gender</th>\n",
       "      <th>Female</th>\n",
       "      <th>Male</th>\n",
       "    </tr>\n",
       "    <tr>\n",
       "      <th>party</th>\n",
       "      <th></th>\n",
       "      <th></th>\n",
       "    </tr>\n",
       "  </thead>\n",
       "  <tbody>\n",
       "    <tr>\n",
       "      <th>Conservative</th>\n",
       "      <td>30.444444</td>\n",
       "      <td>36.918478</td>\n",
       "    </tr>\n",
       "    <tr>\n",
       "      <th>Democratic Unionist Party</th>\n",
       "      <td>NaN</td>\n",
       "      <td>198.000000</td>\n",
       "    </tr>\n",
       "    <tr>\n",
       "      <th>Green Party</th>\n",
       "      <td>265.000000</td>\n",
       "      <td>NaN</td>\n",
       "    </tr>\n",
       "    <tr>\n",
       "      <th>Independent</th>\n",
       "      <td>31.666667</td>\n",
       "      <td>19.000000</td>\n",
       "    </tr>\n",
       "    <tr>\n",
       "      <th>Labour</th>\n",
       "      <td>91.453488</td>\n",
       "      <td>107.097345</td>\n",
       "    </tr>\n",
       "    <tr>\n",
       "      <th>Labour (Co-op)</th>\n",
       "      <td>109.700000</td>\n",
       "      <td>98.285714</td>\n",
       "    </tr>\n",
       "    <tr>\n",
       "      <th>Liberal Democrat</th>\n",
       "      <td>NaN</td>\n",
       "      <td>135.125000</td>\n",
       "    </tr>\n",
       "    <tr>\n",
       "      <th>Plaid Cymru</th>\n",
       "      <td>38.000000</td>\n",
       "      <td>36.000000</td>\n",
       "    </tr>\n",
       "    <tr>\n",
       "      <th>Scottish National Party</th>\n",
       "      <td>36.900000</td>\n",
       "      <td>55.815789</td>\n",
       "    </tr>\n",
       "    <tr>\n",
       "      <th>Social Democratic &amp; Labour Party</th>\n",
       "      <td>137.000000</td>\n",
       "      <td>39.000000</td>\n",
       "    </tr>\n",
       "    <tr>\n",
       "      <th>UK Independence Party</th>\n",
       "      <td>NaN</td>\n",
       "      <td>185.000000</td>\n",
       "    </tr>\n",
       "    <tr>\n",
       "      <th>Ulster Unionist Party</th>\n",
       "      <td>NaN</td>\n",
       "      <td>81.000000</td>\n",
       "    </tr>\n",
       "  </tbody>\n",
       "</table>\n",
       "</div>"
      ],
      "text/plain": [
       "gender                                Female        Male\n",
       "party                                                   \n",
       "Conservative                       30.444444   36.918478\n",
       "Democratic Unionist Party                NaN  198.000000\n",
       "Green Party                       265.000000         NaN\n",
       "Independent                        31.666667   19.000000\n",
       "Labour                             91.453488  107.097345\n",
       "Labour (Co-op)                    109.700000   98.285714\n",
       "Liberal Democrat                         NaN  135.125000\n",
       "Plaid Cymru                        38.000000   36.000000\n",
       "Scottish National Party            36.900000   55.815789\n",
       "Social Democratic & Labour Party  137.000000   39.000000\n",
       "UK Independence Party                    NaN  185.000000\n",
       "Ulster Unionist Party                    NaN   81.000000"
      ]
     },
     "execution_count": 169,
     "metadata": {},
     "output_type": "execute_result"
    }
   ],
   "source": [
    "dqp=dq.pivot(index='party',columns='gender')\n",
    "dqp.columns = dqp.columns.get_level_values(1)\n",
    "dqp"
   ]
  },
  {
   "cell_type": "code",
   "execution_count": 171,
   "metadata": {},
   "outputs": [
    {
     "data": {
      "image/png": "[encoded data removed]",
      "text/plain": [
       "<matplotlib.figure.Figure at 0x1111d1080>"
      ]
     },
     "metadata": {},
     "output_type": "display_data"
    }
   ],
   "source": [
    "dqp.plot(kind='barh');"
   ]
  },
  {
   "cell_type": "code",
   "execution_count": null,
   "metadata": {
    "collapsed": true
   },
   "outputs": [],
   "source": []
  }
 ],
 "metadata": {
  "kernelspec": {
   "display_name": "Python 3",
   "language": "python",
   "name": "python3"
  },
  "language_info": {
   "codemirror_mode": {
    "name": "ipython",
    "version": 3
   },
   "file_extension": ".py",
   "mimetype": "text/x-python",
   "name": "python",
   "nbconvert_exporter": "python",
   "pygments_lexer": "ipython3",
   "version": "3.6.1"
  }
 },
 "nbformat": 4,
 "nbformat_minor": 2
}
