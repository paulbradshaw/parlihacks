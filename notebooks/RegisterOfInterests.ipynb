{
 "cells": [
  {
   "cell_type": "markdown",
   "metadata": {},
   "source": [
    "# UK MPs - Register of Interests - Quick Sketch\n",
    "\n",
    "Couple of hours hack around register of interests data..."
   ]
  },
  {
   "cell_type": "markdown",
   "metadata": {},
   "source": [
    "## Get Data\n",
    "\n",
    "Seems we can find some from [http://www.membersinterests.org.uk/](http://www.membersinterests.org.uk/#spyApi)."
   ]
  },
  {
   "cell_type": "code",
   "execution_count": 8,
   "metadata": {},
   "outputs": [
    {
     "name": "stdout",
     "output_type": "stream",
     "text": [
      "--2017-07-31 13:13:55--  http://downloads.membersinterests.org.uk/register/170707.zip\n",
      "Resolving downloads.membersinterests.org.uk... 191.239.203.8\n",
      "Connecting to downloads.membersinterests.org.uk|191.239.203.8|:80... connected.\n",
      "HTTP request sent, awaiting response... 200 OK\n",
      "Length: 265657 (259K) [application/octet-stream]\n",
      "Saving to: 'tmp/temp.zip'\n",
      "\n",
      "tmp/temp.zip        100%[=====================>] 259.43K  --.-KB/s   in 0.1s   \n",
      "\n",
      "2017-07-31 13:13:57 (2.43 MB/s) - 'tmp/temp.zip' saved [265657/265657]\n",
      "\n",
      "Archive:  tmp/temp.zip\n",
      "  inflating: data/170707.csv         \n"
     ]
    }
   ],
   "source": [
    "url='http://downloads.membersinterests.org.uk/register/170707.zip'\n",
    "!mkdir -p tmp/\n",
    "!mkdir -p data/\n",
    "!wget {url} -O tmp/temp.zip; unzip tmp/temp.zip -d data/ ; rm tmp/temp.zip"
   ]
  },
  {
   "cell_type": "code",
   "execution_count": 13,
   "metadata": {},
   "outputs": [
    {
     "name": "stdout",
     "output_type": "stream",
     "text": [
      "\"Diane Abbott\",\"Hackney North and Stoke Newington\",\"Labour\",\"http://www.publications.parliament.uk/pa/cm/cmregmem/170707/abbott_diane.htm\",\"Fees received for articles written for The Guardian. Address: Guardian News & Media, Kings Place, 90 York Way, London N1 9GU: \"\r",
      "\r\n",
      "\"Diane Abbott\",\"Hackney North and Stoke Newington\",\"Labour\",\"http://www.publications.parliament.uk/pa/cm/cmregmem/170707/abbott_diane.htm\",\"3 November 2016, received £60. Hours: 30 mins. (Registered 10 April 2017) \"\r",
      "\r\n",
      "\"Diane Abbott\",\"Hackney North and Stoke Newington\",\"Labour\",\"http://www.publications.parliament.uk/pa/cm/cmregmem/170707/abbott_diane.htm\",\"10 November 2016, received £100. Hours: 1 hr. (Registered 10 April 2017) \"\r",
      "\r\n"
     ]
    }
   ],
   "source": [
    "#Preview the data\n",
    "!head -n  3 data/170707.csv  "
   ]
  },
  {
   "cell_type": "code",
   "execution_count": 15,
   "metadata": {},
   "outputs": [
    {
     "data": {
      "text/html": [
       "<div>\n",
       "<style>\n",
       "    .dataframe thead tr:only-child th {\n",
       "        text-align: right;\n",
       "    }\n",
       "\n",
       "    .dataframe thead th {\n",
       "        text-align: left;\n",
       "    }\n",
       "\n",
       "    .dataframe tbody tr th {\n",
       "        vertical-align: top;\n",
       "    }\n",
       "</style>\n",
       "<table border=\"1\" class=\"dataframe\">\n",
       "  <thead>\n",
       "    <tr style=\"text-align: right;\">\n",
       "      <th></th>\n",
       "      <th>Name</th>\n",
       "      <th>Constituency</th>\n",
       "      <th>Party</th>\n",
       "      <th>URL</th>\n",
       "      <th>Item</th>\n",
       "    </tr>\n",
       "  </thead>\n",
       "  <tbody>\n",
       "    <tr>\n",
       "      <th>0</th>\n",
       "      <td>Diane Abbott</td>\n",
       "      <td>Hackney North and Stoke Newington</td>\n",
       "      <td>Labour</td>\n",
       "      <td>http://www.publications.parliament.uk/pa/cm/cm...</td>\n",
       "      <td>Fees received for articles written for The Gua...</td>\n",
       "    </tr>\n",
       "    <tr>\n",
       "      <th>1</th>\n",
       "      <td>Diane Abbott</td>\n",
       "      <td>Hackney North and Stoke Newington</td>\n",
       "      <td>Labour</td>\n",
       "      <td>http://www.publications.parliament.uk/pa/cm/cm...</td>\n",
       "      <td>3 November 2016, received £60. Hours: 30 mins....</td>\n",
       "    </tr>\n",
       "    <tr>\n",
       "      <th>2</th>\n",
       "      <td>Diane Abbott</td>\n",
       "      <td>Hackney North and Stoke Newington</td>\n",
       "      <td>Labour</td>\n",
       "      <td>http://www.publications.parliament.uk/pa/cm/cm...</td>\n",
       "      <td>10 November 2016, received £100. Hours: 1 hr. ...</td>\n",
       "    </tr>\n",
       "    <tr>\n",
       "      <th>3</th>\n",
       "      <td>Diane Abbott</td>\n",
       "      <td>Hackney North and Stoke Newington</td>\n",
       "      <td>Labour</td>\n",
       "      <td>http://www.publications.parliament.uk/pa/cm/cm...</td>\n",
       "      <td>22 December 2016, received £285. Hours: 2.5 hr...</td>\n",
       "    </tr>\n",
       "    <tr>\n",
       "      <th>4</th>\n",
       "      <td>Diane Abbott</td>\n",
       "      <td>Hackney North and Stoke Newington</td>\n",
       "      <td>Labour</td>\n",
       "      <td>http://www.publications.parliament.uk/pa/cm/cm...</td>\n",
       "      <td>23 February 2017, received £410. Hours: 6.5 hr...</td>\n",
       "    </tr>\n",
       "  </tbody>\n",
       "</table>\n",
       "</div>"
      ],
      "text/plain": [
       "           Name                       Constituency   Party  \\\n",
       "0  Diane Abbott  Hackney North and Stoke Newington  Labour   \n",
       "1  Diane Abbott  Hackney North and Stoke Newington  Labour   \n",
       "2  Diane Abbott  Hackney North and Stoke Newington  Labour   \n",
       "3  Diane Abbott  Hackney North and Stoke Newington  Labour   \n",
       "4  Diane Abbott  Hackney North and Stoke Newington  Labour   \n",
       "\n",
       "                                                 URL  \\\n",
       "0  http://www.publications.parliament.uk/pa/cm/cm...   \n",
       "1  http://www.publications.parliament.uk/pa/cm/cm...   \n",
       "2  http://www.publications.parliament.uk/pa/cm/cm...   \n",
       "3  http://www.publications.parliament.uk/pa/cm/cm...   \n",
       "4  http://www.publications.parliament.uk/pa/cm/cm...   \n",
       "\n",
       "                                                Item  \n",
       "0  Fees received for articles written for The Gua...  \n",
       "1  3 November 2016, received £60. Hours: 30 mins....  \n",
       "2  10 November 2016, received £100. Hours: 1 hr. ...  \n",
       "3  22 December 2016, received £285. Hours: 2.5 hr...  \n",
       "4  23 February 2017, received £410. Hours: 6.5 hr...  "
      ]
     },
     "execution_count": 15,
     "metadata": {},
     "output_type": "execute_result"
    }
   ],
   "source": [
    "#View data in datatable\n",
    "import pandas as pd\n",
    "df=pd.read_csv('data/170707.csv',header=None)\n",
    "df.columns=['Name','Constituency','Party','URL','Item']\n",
    "df.head()"
   ]
  },
  {
   "cell_type": "markdown",
   "metadata": {},
   "source": [
    "## Simple entity extraction\n",
    "\n",
    "Quick pass at trying to extract entities locally using simple natural language extractor.\n",
    "\n",
    "This is not necessarily that spophisticated - but it's a start..."
   ]
  },
  {
   "cell_type": "code",
   "execution_count": 16,
   "metadata": {
    "collapsed": true
   },
   "outputs": [],
   "source": [
    "#!pip3 install spacy\n",
    "#!python3 -m spacy download en\n",
    "\n",
    "from spacy.en import English\n",
    "parser = English()"
   ]
  },
  {
   "cell_type": "code",
   "execution_count": 17,
   "metadata": {
    "collapsed": true
   },
   "outputs": [],
   "source": [
    "def entities(example, show=False):\n",
    "    if show: print(example)\n",
    "    parsedEx = parser(example)\n",
    "\n",
    "    print(\"-------------- entities only ---------------\")\n",
    "    # if you just want the entities and nothing else, you can do access the parsed examples \"ents\" property like this:\n",
    "    ents = list(parsedEx.ents)\n",
    "    tags={}\n",
    "    for entity in ents:\n",
    "        #print(entity.label, entity.label_, ' '.join(t.orth_ for t in entity))\n",
    "        term=' '.join(t.orth_ for t in entity)\n",
    "        if ' '.join(term) not in tags:\n",
    "            tags[term]=[(entity.label, entity.label_)]\n",
    "        else:\n",
    "            tags[term].append((entity.label, entity.label_))\n",
    "    print(tags)"
   ]
  },
  {
   "cell_type": "code",
   "execution_count": 117,
   "metadata": {},
   "outputs": [
    {
     "data": {
      "text/plain": [
       "'Fees received for articles written for The Guardian. Address: Guardian News & Media, Kings Place, 90 York Way, London N1 9GU: '"
      ]
     },
     "execution_count": 117,
     "metadata": {},
     "output_type": "execute_result"
    }
   ],
   "source": [
    "#Get a sinlge register line item to play with\n",
    "txt=df.iloc[0]['Item']\n",
    "txt"
   ]
  },
  {
   "cell_type": "code",
   "execution_count": 25,
   "metadata": {},
   "outputs": [
    {
     "name": "stdout",
     "output_type": "stream",
     "text": [
      "Fees received for articles written for The Guardian. Address: Guardian News & Media, Kings Place, 90 York Way, London N1 9GU: \n",
      "-------------- entities only ---------------\n",
      "{'The Guardian': [(385, 'WORK_OF_ART')], 'Guardian News & Media': [(380, 'ORG')], 'Kings Place': [(381, 'GPE')], '90': [(393, 'CARDINAL')], 'York Way': [(377, 'PERSON')], 'London': [(381, 'GPE')], '9GU': [(393, 'CARDINAL')]}\n"
     ]
    }
   ],
   "source": [
    "entities(txt, True)"
   ]
  },
  {
   "cell_type": "markdown",
   "metadata": {},
   "source": [
    "We might then try to reconcile things classed as an `ORG` using something like OpenCorporates API."
   ]
  },
  {
   "cell_type": "code",
   "execution_count": 116,
   "metadata": {},
   "outputs": [
    {
     "data": {
      "text/plain": [
       "{'duration': 145.190966,\n",
       " 'result': [{'id': '/companies/gb/00908396',\n",
       "   'match': False,\n",
       "   'name': 'GUARDIAN NEWS & MEDIA LIMITED',\n",
       "   'score': 69.0,\n",
       "   'type': [{'id': '/organization/organization', 'name': 'Organization'}],\n",
       "   'uri': 'http://opencorporates.com/companies/gb/00908396'},\n",
       "  {'id': '/companies/gb/03673142',\n",
       "   'match': False,\n",
       "   'name': 'GUARDIAN NEWS & MEDIA (HOLDINGS) LIMITED',\n",
       "   'score': 58.0,\n",
       "   'type': [{'id': '/organization/organization', 'name': 'Organization'}],\n",
       "   'uri': 'http://opencorporates.com/companies/gb/03673142'}]}"
      ]
     },
     "execution_count": 116,
     "metadata": {},
     "output_type": "execute_result"
    }
   ],
   "source": [
    "import requests\n",
    "ocrecURL='http://opencorporates.com/reconcile/gb'\n",
    "rq=requests.get(ocrecURL,params={'query':'Guardian News & Media'})\n",
    "rq.json()"
   ]
  },
  {
   "cell_type": "markdown",
   "metadata": {},
   "source": [
    "## Third Party Taggers\n",
    "\n",
    "Examples of using third party taggers."
   ]
  },
  {
   "cell_type": "markdown",
   "metadata": {},
   "source": [
    "### Thomson Reuters OpenCalais"
   ]
  },
  {
   "cell_type": "code",
   "execution_count": 22,
   "metadata": {
    "collapsed": true
   },
   "outputs": [],
   "source": [
    "CALAIS_KEY=\"\""
   ]
  },
  {
   "cell_type": "code",
   "execution_count": 23,
   "metadata": {
    "collapsed": true
   },
   "outputs": [],
   "source": [
    "import requests\n",
    "import json\n",
    "\n",
    "def calais(text, calaisKey=CALAIS_KEY):\n",
    "    calais_url = 'https://api.thomsonreuters.com/permid/calais'\n",
    "\n",
    "    headers = {'X-AG-Access-Token' : calaisKey, 'Content-Type' : 'text/raw', 'outputformat' : 'application/json'}\n",
    "    \n",
    "    response = requests.post(calais_url, files={'file':text}, headers=headers, timeout=80)\n",
    "    #print ('status code: %s' % response.status_code)\n",
    "    content = response.text\n",
    "    #print ('Results received: %s' % content)\n",
    "    return json.loads(response.text)"
   ]
  },
  {
   "cell_type": "code",
   "execution_count": 86,
   "metadata": {
    "collapsed": true
   },
   "outputs": [],
   "source": [
    "def cleaner(txt):\n",
    "    txt=txt.replace('Address of',' Address of')\n",
    "    return txt"
   ]
  },
  {
   "cell_type": "code",
   "execution_count": 88,
   "metadata": {
    "scrolled": false
   },
   "outputs": [],
   "source": [
    "oc=calais( cleaner(txt) )"
   ]
  },
  {
   "cell_type": "code",
   "execution_count": 89,
   "metadata": {},
   "outputs": [
    {
     "data": {
      "text/plain": [
       "{'entities': [{'_type': 'PublishedMedium',\n",
       "   'instances': ['The Guardian'],\n",
       "   'name': 'The Guardian'}],\n",
       " 'relations': [{'_type': 'ContactDetails',\n",
       "   'address': '90 York Way, London N1 9GU',\n",
       "   'instances': ['The Guardian. Address: Guardian News & Media, Kings Place, 90 York Way, London N1 9GU:']}],\n",
       " 'socialTag': [{'name': 'Republicanism in the United Kingdom'},\n",
       "  {'name': 'The Guardian'},\n",
       "  {'name': 'Computer file'},\n",
       "  {'name': 'Filename'},\n",
       "  {'name': 'National Guardian'},\n",
       "  {'name': 'N1 road'},\n",
       "  {'name': 'Journalism'},\n",
       "  {'name': 'News media'},\n",
       "  {'name': 'Computing'}],\n",
       " 'topics': [{'name': 'Technology_Internet'}]}"
      ]
     },
     "execution_count": 89,
     "metadata": {},
     "output_type": "execute_result"
    }
   ],
   "source": [
    "def ocQuickView(oc):\n",
    "    items={}\n",
    "\n",
    "    for k in oc.keys():\n",
    "        if '_typeGroup' in oc[k] and oc[k]['_typeGroup'] in ['entities','relations','socialTag','topics']:\n",
    "            k2=oc[k]['_typeGroup']\n",
    "            if k2 not in items: items[k2]=[]\n",
    "            record={}\n",
    "\n",
    "            #if '_type' in oc[k]:\n",
    "            #    record['typ']=oc[k]['_type']\n",
    "            if 'instances' in oc[k]:\n",
    "                record['instances']=[i['exact'] for i in oc[k]['instances'] if 'exact' in i]\n",
    "\n",
    "            for k3 in ['name','address','_type']:\n",
    "                if k3 in oc[k]: record[k3] = oc[k][k3]\n",
    "\n",
    "            items[k2].append(record)\n",
    "    return items\n",
    "\n",
    "ocQuickView(oc)"
   ]
  },
  {
   "cell_type": "code",
   "execution_count": 92,
   "metadata": {},
   "outputs": [
    {
     "name": "stdout",
     "output_type": "stream",
     "text": [
      "Name of donor: (1) Professor Magdy Ishak; (2) Egyptian Ministry of Foreign Affairs Address of donor: (1) private; (2) Nile Corniche, Boulaq, Cairo Governate, EgyptEstimate of the probable value (or amount of any donation): (1) Flights to a value of £1,386; (2) accommodation, food and transport to a value of £596Destination of visit: EgyptDates of visit: 16-20 March 2017Purpose of visit: Conservative Middle East Council parliamentary fact finding delegation.(Registered 31 March 2017) \n",
      "---\n",
      "{'socialTag': [{'name': 'Bulaq'}, {'name': 'Magdy'}, {'name': 'Cairo'}, {'name': 'Donor'}, {'name': 'Geography of Egypt'}, {'name': 'Geography of Africa'}, {'name': 'Nile'}], 'entities': [{'instances': ['Professor'], 'name': 'Professor', '_type': 'Position'}, {'instances': ['Conservative Middle East Council'], 'name': 'Conservative Middle East Council', '_type': 'Organization'}, {'instances': ['Professor Magdy Ishak'], 'name': 'Magdy Ishak', '_type': 'Person'}, {'instances': ['Egyptian Ministry of Foreign Affairs Address'], 'name': 'Egyptian Ministry of Foreign Affairs Address', '_type': 'Organization'}, {'instances': ['food'], 'name': 'food', '_type': 'IndustryTerm'}], 'relations': [{'instances': ['Professor Magdy Ishak'], '_type': 'PersonCareer'}]}\n"
     ]
    }
   ],
   "source": [
    "ix=155\n",
    "txt=cleaner(df.iloc[ix]['Item'])\n",
    "print('{}\\n---\\n{}'.format(txt, ocQuickView(calais(txt))))"
   ]
  },
  {
   "cell_type": "code",
   "execution_count": 95,
   "metadata": {},
   "outputs": [
    {
     "name": "stdout",
     "output_type": "stream",
     "text": [
      "Received £75 on 25 October 2016 for survey completed on 25 August 2016. Hours: 30 mins. (Registered 01 November 2016) \n",
      "---\n",
      "{'topics': [{'name': 'Social Issues'}, {'name': 'Technology_Internet'}], 'socialTag': [{'name': 'Filenames'}, {'name': 'Records management'}]}\n"
     ]
    }
   ],
   "source": [
    "ix=299\n",
    "txt=cleaner(df.iloc[ix]['Item'])\n",
    "print('{}\\n---\\n{}'.format(txt, ocQuickView(calais(txt))))"
   ]
  },
  {
   "cell_type": "code",
   "execution_count": 94,
   "metadata": {},
   "outputs": [
    {
     "name": "stdout",
     "output_type": "stream",
     "text": [
      "Name of donor: Brian Griffiths Address of donor: privateAmount of donation or nature and value if donation in kind: £2,000Date received: 25 May 2017Date accepted: 25 May 2017Donor status: individual(Registered 29 June 2017) \n",
      "---\n",
      "{'topics': [{'name': 'Health_Medical_Pharma'}], 'socialTag': [{'name': 'Organ donation'}, {'name': 'Medicine'}, {'name': 'Donor'}, {'name': 'Donation'}, {'name': 'Fertility medicine'}, {'name': 'Health care'}, {'name': 'Transfusion medicine'}, {'name': 'Sperm donation'}], 'entities': [{'instances': ['Brian Griffiths'], 'name': 'Brian Griffiths', '_type': 'Person'}]}\n"
     ]
    }
   ],
   "source": [
    "ix=863\n",
    "txt=cleaner(df.iloc[ix]['Item'])\n",
    "print('{}\\n---\\n{}'.format(txt, ocQuickView(calais(txt))))"
   ]
  },
  {
   "cell_type": "markdown",
   "metadata": {},
   "source": [
    "## Observations\n",
    "\n",
    "The free text has items that can be parsed out - e.g. *Name of donor:*, *Amount of donation or nature and value if donation in kind:*, etc.\n",
    "\n"
   ]
  },
  {
   "cell_type": "code",
   "execution_count": 97,
   "metadata": {},
   "outputs": [
    {
     "data": {
      "text/plain": [
       "'Name of donor: Nael FarargyAddress of donor: privateAmount of donation or nature and value of donation in kind: Â£20,000 to hire a part time member of staff and meet office and staff expensesDate received: 12 April 2017Date accepted: 12 April 2017Donor status: individual(Registered 18 April 2017) '"
      ]
     },
     "execution_count": 97,
     "metadata": {},
     "output_type": "execute_result"
    }
   ],
   "source": [
    "txt=\"Name of donor: Nael FarargyAddress of donor: privateAmount of donation or nature and value of donation in kind: Â£20,000 to hire a part time member of staff and meet office and staff expensesDate received: 12 April 2017Date accepted: 12 April 2017Donor status: individual(Registered 18 April 2017) \"\n",
    "txt"
   ]
  },
  {
   "cell_type": "markdown",
   "metadata": {},
   "source": [
    "Define a regular expression to pull out the data in structured form if the text conforms to a conventional format."
   ]
  },
  {
   "cell_type": "code",
   "execution_count": 105,
   "metadata": {
    "collapsed": true
   },
   "outputs": [],
   "source": [
    "extractor1='Name of donor:(?P<name>.*)Address of donor:(?P<address>.*)Amount of donation or nature and value of donation in kind:(?P<amount>.*)Date received:(?P<rxd>.*)Date accepted:(?P<accptd>.*)Donor status(?P<status>.*)'\n",
    "\n"
   ]
  },
  {
   "cell_type": "code",
   "execution_count": 106,
   "metadata": {},
   "outputs": [],
   "source": [
    "import re\n",
    "r=re.compile(extractor1)"
   ]
  },
  {
   "cell_type": "code",
   "execution_count": 113,
   "metadata": {},
   "outputs": [
    {
     "data": {
      "text/plain": [
       "{'accptd': ' 12 April 2017',\n",
       " 'address': ' private',\n",
       " 'amount': ' Â£20,000 to hire a part time member of staff and meet office and staff expenses',\n",
       " 'name': ' Nael Farargy',\n",
       " 'rxd': ' 12 April 2017',\n",
       " 'status': ': individual(Registered 18 April 2017) '}"
      ]
     },
     "execution_count": 113,
     "metadata": {},
     "output_type": "execute_result"
    }
   ],
   "source": [
    "r.match(txt).groupdict()"
   ]
  },
  {
   "cell_type": "markdown",
   "metadata": {},
   "source": [
    "There may be other conventional forms in register entries, for which alternative regular expressions ould be defined."
   ]
  },
  {
   "cell_type": "markdown",
   "metadata": {},
   "source": [
    "Having got structured data out, we could start to put it into a database and then make queries over it."
   ]
  },
  {
   "cell_type": "code",
   "execution_count": null,
   "metadata": {
    "collapsed": true
   },
   "outputs": [],
   "source": []
  }
 ],
 "metadata": {
  "kernelspec": {
   "display_name": "Python 3",
   "language": "python",
   "name": "python3"
  },
  "language_info": {
   "codemirror_mode": {
    "name": "ipython",
    "version": 3
   },
   "file_extension": ".py",
   "mimetype": "text/x-python",
   "name": "python",
   "nbconvert_exporter": "python",
   "pygments_lexer": "ipython3",
   "version": "3.6.1"
  }
 },
 "nbformat": 4,
 "nbformat_minor": 2
}
