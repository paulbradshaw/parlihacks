{
 "cells": [
  {
   "cell_type": "markdown",
   "metadata": {},
   "source": [
    "# Simple Tools from Extracting Quantities from Strings\n",
    "\n",
    "Suppose we have a report and we want to find the sentences that are talking about numerical things....\n",
    "\n",
    "*Originally inspired by [When you get data in sentences: how to use a spreadsheet to extract numbers from phrases](https://onlinejournalismblog.com/2019/07/29/when-you-get-data-in-sentences-how-to-use-a-spreadsheet-to-extract-numbers-from-phrases/), Paul Bradshaw, Online Journalism blog, from which some of the example sentences (sic!) are taken.*\n",
    "\n",
    "Distribution: https://twitter.com/paulbradshaw/status/1158752556958519297"
   ]
  },
  {
   "cell_type": "markdown",
   "metadata": {},
   "source": [
    "## Potentially Useful Python Packages\n",
    "\n",
    "- `quantulum`: extract quantities from natural language text;\n",
    "- `ctparse`: extract time / date related quantities from natural language text;\n",
    "- `r1chardj0n3s/parse`: easy scrape / regex extraction from semi-structred text using `format()` like patterns; example use [here](https://github.com/psychemedia/parlihacks/blob/master/notebooks/MP%20Register%20of%20Interests.ipynb);\n",
    "- [`dateparser`](https://github.com/scrapinghub/dateparser) [[docs](https://dateparser.readthedocs.io/en/latest/)]: \"easily parse localized dates in almost any string formats commonly found on web pages\" (includes foreign language detection);\n",
    "- [invoice2data](https://github.com/invoice-x/invoice2data):"
   ]
  },
  {
   "cell_type": "markdown",
   "metadata": {},
   "source": [
    "## Example Sentences\n",
    "\n",
    "Make a start on some sample test sentences..."
   ]
  },
  {
   "cell_type": "code",
   "execution_count": 152,
   "metadata": {},
   "outputs": [],
   "source": [
    "sentences = [\n",
    "    '4 years and 6 months’ imprisonment with a licence extension of 2 years and 6 months',\n",
    "    'No quantities here',\n",
    "    'I measured it as 2 meters and 30 centimeters.',\n",
    "    \"four years and six months' imprisonment with a licence extension of 2 years and 6 months\",\n",
    "    'it cost £250... bargain...',\n",
    "    'it weighs four hundred kilograms.',\n",
    "    'It weighs 400kg.',\n",
    "    'three million, two hundred & forty, you say?',\n",
    "    'it weighs four hundred and twenty kilograms.'\n",
    "    \n",
    "]"
   ]
  },
  {
   "cell_type": "markdown",
   "metadata": {},
   "source": [
    "## `quantulum3`\n",
    "\n",
    "[`quantulum3`](https://github.com/nielstron/quantulum3) is a Python package *\"for information extraction of quantities from unstructured text\"*."
   ]
  },
  {
   "cell_type": "code",
   "execution_count": 153,
   "metadata": {},
   "outputs": [],
   "source": [
    "#!pip3 install quantulum3\n",
    "from quantulum3 import parser"
   ]
  },
  {
   "cell_type": "code",
   "execution_count": 154,
   "metadata": {
    "scrolled": false
   },
   "outputs": [
    {
     "name": "stdout",
     "output_type": "stream",
     "text": [
      "4 years and 6 months’ imprisonment with a licence extension of 2 years and 6 months\n",
      "\tSpoken: four years and six months’ imprisonment with a licence extension of two years and six months\n",
      "\tNumeric elements:\n"
     ]
    },
    {
     "data": {
      "text/plain": [
       "Quantity(4, \"Unit(name=\"year\", entity=Entity(\"time\"), uri=Year)\")"
      ]
     },
     "metadata": {},
     "output_type": "display_data"
    },
    {
     "name": "stdout",
     "output_type": "stream",
     "text": [
      "\t\t4 years :: four years\n"
     ]
    },
    {
     "data": {
      "text/plain": [
       "Quantity(6, \"Unit(name=\"month\", entity=Entity(\"time\"), uri=Month)\")"
      ]
     },
     "metadata": {},
     "output_type": "display_data"
    },
    {
     "name": "stdout",
     "output_type": "stream",
     "text": [
      "\t\t6 months :: six months\n"
     ]
    },
    {
     "data": {
      "text/plain": [
       "Quantity(2, \"Unit(name=\"year\", entity=Entity(\"time\"), uri=Year)\")"
      ]
     },
     "metadata": {},
     "output_type": "display_data"
    },
    {
     "name": "stdout",
     "output_type": "stream",
     "text": [
      "\t\t2 years :: two years\n"
     ]
    },
    {
     "data": {
      "text/plain": [
       "Quantity(6, \"Unit(name=\"month\", entity=Entity(\"time\"), uri=Month)\")"
      ]
     },
     "metadata": {},
     "output_type": "display_data"
    },
    {
     "name": "stdout",
     "output_type": "stream",
     "text": [
      "\t\t6 months :: six months\n",
      "\n",
      "---------\n",
      "\n",
      "No quantities here\n",
      "\n",
      "---------\n",
      "\n",
      "I measured it as 2 meters and 30 centimeters.\n",
      "\tSpoken: I measured it as two metres and thirty centimetres.\n",
      "\tNumeric elements:\n"
     ]
    },
    {
     "data": {
      "text/plain": [
       "Quantity(2, \"Unit(name=\"metre\", entity=Entity(\"length\"), uri=Metre)\")"
      ]
     },
     "metadata": {},
     "output_type": "display_data"
    },
    {
     "name": "stdout",
     "output_type": "stream",
     "text": [
      "\t\t2 meters :: two metres\n"
     ]
    },
    {
     "data": {
      "text/plain": [
       "Quantity(30, \"Unit(name=\"centimetre\", entity=Entity(\"length\"), uri=Centimetre)\")"
      ]
     },
     "metadata": {},
     "output_type": "display_data"
    },
    {
     "name": "stdout",
     "output_type": "stream",
     "text": [
      "\t\t30 centimeters :: thirty centimetres\n",
      "\n",
      "---------\n",
      "\n",
      "four years and six months' imprisonment with a licence extension of 2 years and 6 months\n",
      "\tSpoken: four years and six months imprisonment with a licence extension of two years and six months\n",
      "\tNumeric elements:\n"
     ]
    },
    {
     "data": {
      "text/plain": [
       "Quantity(4, \"Unit(name=\"year\", entity=Entity(\"time\"), uri=Year)\")"
      ]
     },
     "metadata": {},
     "output_type": "display_data"
    },
    {
     "name": "stdout",
     "output_type": "stream",
     "text": [
      "\t\tfour years :: four years\n"
     ]
    },
    {
     "data": {
      "text/plain": [
       "Quantity(6, \"Unit(name=\"month\", entity=Entity(\"time\"), uri=Month)\")"
      ]
     },
     "metadata": {},
     "output_type": "display_data"
    },
    {
     "name": "stdout",
     "output_type": "stream",
     "text": [
      "\t\tsix months' :: six months\n"
     ]
    },
    {
     "data": {
      "text/plain": [
       "Quantity(2, \"Unit(name=\"year\", entity=Entity(\"time\"), uri=Year)\")"
      ]
     },
     "metadata": {},
     "output_type": "display_data"
    },
    {
     "name": "stdout",
     "output_type": "stream",
     "text": [
      "\t\t2 years :: two years\n"
     ]
    },
    {
     "data": {
      "text/plain": [
       "Quantity(6, \"Unit(name=\"month\", entity=Entity(\"time\"), uri=Month)\")"
      ]
     },
     "metadata": {},
     "output_type": "display_data"
    },
    {
     "name": "stdout",
     "output_type": "stream",
     "text": [
      "\t\t6 months :: six months\n",
      "\n",
      "---------\n",
      "\n",
      "it cost £250... bargain...\n",
      "\tSpoken: it cost two hundred and fifty pounds sterling, zero pence... bargain...\n",
      "\tNumeric elements:\n"
     ]
    },
    {
     "data": {
      "text/plain": [
       "Quantity(250, \"Unit(name=\"pound sterling\", entity=Entity(\"currency\"), uri=Pound_sterling)\")"
      ]
     },
     "metadata": {},
     "output_type": "display_data"
    },
    {
     "name": "stdout",
     "output_type": "stream",
     "text": [
      "\t\t£250 :: two hundred and fifty pounds sterling, zero pence\n",
      "\n",
      "---------\n",
      "\n",
      "it weighs four hundred kilograms.\n",
      "\tSpoken: it weighs four hundred kilograms.\n",
      "\tNumeric elements:\n"
     ]
    },
    {
     "data": {
      "text/plain": [
       "Quantity(400, \"Unit(name=\"kilogram\", entity=Entity(\"mass\"), uri=Kilogram)\")"
      ]
     },
     "metadata": {},
     "output_type": "display_data"
    },
    {
     "name": "stdout",
     "output_type": "stream",
     "text": [
      "\t\tfour hundred kilograms :: four hundred kilograms\n",
      "\n",
      "---------\n",
      "\n",
      "It weighs 400kg.\n",
      "\tSpoken: It weighs four hundred kilograms.\n",
      "\tNumeric elements:\n"
     ]
    },
    {
     "data": {
      "text/plain": [
       "Quantity(400, \"Unit(name=\"kilogram\", entity=Entity(\"mass\"), uri=Kilogram)\")"
      ]
     },
     "metadata": {},
     "output_type": "display_data"
    },
    {
     "name": "stdout",
     "output_type": "stream",
     "text": [
      "\t\t400kg :: four hundred kilograms\n",
      "\n",
      "---------\n",
      "\n",
      "three million, two hundred & forty, you say?\n",
      "\tSpoken: three million, two hundred & forty, you say?\n",
      "\tNumeric elements:\n"
     ]
    },
    {
     "data": {
      "text/plain": [
       "Quantity(3e+06, \"Unit(name=\"dimensionless\", entity=Entity(\"dimensionless\"), uri=Dimensionless_quantity)\")"
      ]
     },
     "metadata": {},
     "output_type": "display_data"
    },
    {
     "name": "stdout",
     "output_type": "stream",
     "text": [
      "\t\tthree million :: three million\n"
     ]
    },
    {
     "data": {
      "text/plain": [
       "Quantity(200, \"Unit(name=\"dimensionless\", entity=Entity(\"dimensionless\"), uri=Dimensionless_quantity)\")"
      ]
     },
     "metadata": {},
     "output_type": "display_data"
    },
    {
     "name": "stdout",
     "output_type": "stream",
     "text": [
      "\t\ttwo hundred :: two hundred\n"
     ]
    },
    {
     "data": {
      "text/plain": [
       "Quantity(40, \"Unit(name=\"dimensionless\", entity=Entity(\"dimensionless\"), uri=Dimensionless_quantity)\")"
      ]
     },
     "metadata": {},
     "output_type": "display_data"
    },
    {
     "name": "stdout",
     "output_type": "stream",
     "text": [
      "\t\tforty :: forty\n",
      "\n",
      "---------\n",
      "\n",
      "it weighs four hundred and twenty kilograms.\n",
      "\tSpoken: it weighs four hundred and twenty kilograms.\n",
      "\tNumeric elements:\n"
     ]
    },
    {
     "data": {
      "text/plain": [
       "Quantity(420, \"Unit(name=\"kilogram\", entity=Entity(\"mass\"), uri=Kilogram)\")"
      ]
     },
     "metadata": {},
     "output_type": "display_data"
    },
    {
     "name": "stdout",
     "output_type": "stream",
     "text": [
      "\t\tfour hundred and twenty kilograms :: four hundred and twenty kilograms\n",
      "\n",
      "---------\n",
      "\n"
     ]
    }
   ],
   "source": [
    "for sent in sentences:\n",
    "    print(sent)\n",
    "    p = parser.parse(sent)\n",
    "    if p:\n",
    "        print('\\tSpoken:',parser.inline_parse_and_expand(sent))\n",
    "        print('\\tNumeric elements:')\n",
    "        for q in p:\n",
    "            display(q)\n",
    "            print('\\t\\t{} :: {}'.format(q.surface, q))\n",
    "    print('\\n---------\\n')"
   ]
  },
  {
   "cell_type": "markdown",
   "metadata": {},
   "source": [
    "## Finding quantity statements in large texts\n",
    "\n",
    "If we have a large block of text, we might want to quickly skim it for quantity containing sentences, we can do something like the following..."
   ]
  },
  {
   "cell_type": "code",
   "execution_count": 155,
   "metadata": {},
   "outputs": [],
   "source": [
    "import spacy\n",
    "nlp = spacy.load('en_core_web_lg', disable = ['ner'])"
   ]
  },
  {
   "cell_type": "code",
   "execution_count": 171,
   "metadata": {},
   "outputs": [],
   "source": [
    "text = '''\n",
    "Once upon a time, there was a thing. The thing weighed forty kilogrammes and cost £250. \n",
    "It was blue. It took forty five minutes to get it home. \n",
    "What a day that was. I didn't get back until 2.15pm. Then I had some cake for tea.\n",
    "'''"
   ]
  },
  {
   "cell_type": "code",
   "execution_count": 172,
   "metadata": {},
   "outputs": [
    {
     "name": "stdout",
     "output_type": "stream",
     "text": [
      "\n",
      "Once upon a time, there was a thing.\n",
      "The thing weighed forty kilogrammes and cost £250. \n",
      "\n",
      "It was blue.\n",
      "It took forty five minutes to get it home. \n",
      "\n",
      "What a day that was.\n",
      "I didn't get back until 2.15pm.\n",
      "Then I had some cake for tea.\n",
      "\n"
     ]
    }
   ],
   "source": [
    "doc = nlp(text)\n",
    "for sent in doc.sents:\n",
    "    print(sent)"
   ]
  },
  {
   "cell_type": "code",
   "execution_count": 173,
   "metadata": {},
   "outputs": [
    {
     "name": "stdout",
     "output_type": "stream",
     "text": [
      "\tSpoken: \n",
      "Once upon one instance, there was a thing.\n",
      "\tNumeric elements:\n"
     ]
    },
    {
     "data": {
      "text/plain": [
       "Quantity(1, \"Unit(name=\"count\", entity=Entity(\"dimensionless\"), uri=Count_data)\")"
      ]
     },
     "metadata": {},
     "output_type": "display_data"
    },
    {
     "name": "stdout",
     "output_type": "stream",
     "text": [
      "\t\ta time :: one instance\n",
      "\n",
      "---------\n",
      "\n",
      "\tSpoken: The thing weighed forty kilograms and cost two hundred and fifty pounds sterling, zero pence. \n",
      "\n",
      "\tNumeric elements:\n"
     ]
    },
    {
     "data": {
      "text/plain": [
       "Quantity(40, \"Unit(name=\"kilogram\", entity=Entity(\"mass\"), uri=Kilogram)\")"
      ]
     },
     "metadata": {},
     "output_type": "display_data"
    },
    {
     "name": "stdout",
     "output_type": "stream",
     "text": [
      "\t\tforty kilogrammes :: forty kilograms\n"
     ]
    },
    {
     "data": {
      "text/plain": [
       "Quantity(250, \"Unit(name=\"pound sterling\", entity=Entity(\"currency\"), uri=Pound_sterling)\")"
      ]
     },
     "metadata": {},
     "output_type": "display_data"
    },
    {
     "name": "stdout",
     "output_type": "stream",
     "text": [
      "\t\t£250 :: two hundred and fifty pounds sterling, zero pence\n",
      "\n",
      "---------\n",
      "\n",
      "\n",
      "---------\n",
      "\n",
      "\tSpoken: It took forty-five minutes to get it home. \n",
      "\n",
      "\tNumeric elements:\n"
     ]
    },
    {
     "data": {
      "text/plain": [
       "Quantity(45, \"Unit(name=\"minute of arc\", entity=Entity(\"angle\"), uri=Minute_and_second_of_arc)\")"
      ]
     },
     "metadata": {},
     "output_type": "display_data"
    },
    {
     "name": "stdout",
     "output_type": "stream",
     "text": [
      "\t\tforty five minutes :: forty-five minutes\n",
      "\n",
      "---------\n",
      "\n",
      "\tSpoken: What one day that was.\n",
      "\tNumeric elements:\n"
     ]
    },
    {
     "data": {
      "text/plain": [
       "Quantity(1, \"Unit(name=\"day\", entity=Entity(\"time\"), uri=Day)\")"
      ]
     },
     "metadata": {},
     "output_type": "display_data"
    },
    {
     "name": "stdout",
     "output_type": "stream",
     "text": [
      "\t\ta day :: one day\n",
      "\n",
      "---------\n",
      "\n",
      "\tSpoken: I didn't get back until two point one five picometres.\n",
      "\tNumeric elements:\n"
     ]
    },
    {
     "data": {
      "text/plain": [
       "Quantity(2.15, \"Unit(name=\"picometre\", entity=Entity(\"length\"), uri=Picometre)\")"
      ]
     },
     "metadata": {},
     "output_type": "display_data"
    },
    {
     "name": "stdout",
     "output_type": "stream",
     "text": [
      "\t\t2.15pm :: two point one five picometres\n",
      "\n",
      "---------\n",
      "\n",
      "\n",
      "---------\n",
      "\n"
     ]
    }
   ],
   "source": [
    "for sent in doc.sents:\n",
    "    sent = sent.text\n",
    "    p = parser.parse(sent)\n",
    "    if p:\n",
    "        print('\\tSpoken:',parser.inline_parse_and_expand(sent))\n",
    "        print('\\tNumeric elements:')\n",
    "        for q in p:\n",
    "            display(q)\n",
    "            print('\\t\\t{} :: {}'.format(q.surface, q))\n",
    "    print('\\n---------\\n')"
   ]
  },
  {
   "cell_type": "markdown",
   "metadata": {},
   "source": [
    "## Annotating a dataset\n",
    "\n",
    "Can we extract numbers from sentences in a CSV file? Yes we can..."
   ]
  },
  {
   "cell_type": "code",
   "execution_count": 1,
   "metadata": {},
   "outputs": [],
   "source": [
    "url = 'https://raw.githubusercontent.com/BBC-Data-Unit/unduly-lenient-sentences/master/ULS%20for%20Sankey.csv'"
   ]
  },
  {
   "cell_type": "code",
   "execution_count": 2,
   "metadata": {},
   "outputs": [
    {
     "data": {
      "text/html": [
       "<div>\n",
       "<style scoped>\n",
       "    .dataframe tbody tr th:only-of-type {\n",
       "        vertical-align: middle;\n",
       "    }\n",
       "\n",
       "    .dataframe tbody tr th {\n",
       "        vertical-align: top;\n",
       "    }\n",
       "\n",
       "    .dataframe thead th {\n",
       "        text-align: right;\n",
       "    }\n",
       "</style>\n",
       "<table border=\"1\" class=\"dataframe\">\n",
       "  <thead>\n",
       "    <tr style=\"text-align: right;\">\n",
       "      <th></th>\n",
       "      <th>Year</th>\n",
       "      <th>Offence category REFINED</th>\n",
       "      <th>Original sentence (refined)</th>\n",
       "      <th>Crown Court</th>\n",
       "      <th>Outcome of Decision</th>\n",
       "      <th>Revised?</th>\n",
       "      <th>People</th>\n",
       "      <th>Top 7</th>\n",
       "    </tr>\n",
       "  </thead>\n",
       "  <tbody>\n",
       "    <tr>\n",
       "      <th>0</th>\n",
       "      <td>2015</td>\n",
       "      <td>Drug offence</td>\n",
       "      <td>3 years imprisonment</td>\n",
       "      <td>Bristol</td>\n",
       "      <td>Not referred</td>\n",
       "      <td>No</td>\n",
       "      <td>1</td>\n",
       "      <td>Y</td>\n",
       "    </tr>\n",
       "    <tr>\n",
       "      <th>1</th>\n",
       "      <td>2015</td>\n",
       "      <td>Death or serious injury - unlawful driving</td>\n",
       "      <td>6 years imprisonment - Disqualified driving - ...</td>\n",
       "      <td>Portsmouth</td>\n",
       "      <td>Not referred</td>\n",
       "      <td>No</td>\n",
       "      <td>1</td>\n",
       "      <td>Y</td>\n",
       "    </tr>\n",
       "    <tr>\n",
       "      <th>2</th>\n",
       "      <td>2015</td>\n",
       "      <td>Sexual offence</td>\n",
       "      <td>9 months imprisonment suspended for 2 years</td>\n",
       "      <td>Nottingham</td>\n",
       "      <td>Out of time</td>\n",
       "      <td>No</td>\n",
       "      <td>1</td>\n",
       "      <td>Y</td>\n",
       "    </tr>\n",
       "    <tr>\n",
       "      <th>3</th>\n",
       "      <td>2015</td>\n",
       "      <td>Theft offence</td>\n",
       "      <td>4 years and 10 months imprisonment - consecuti...</td>\n",
       "      <td>St Albans</td>\n",
       "      <td>Not referred</td>\n",
       "      <td>No</td>\n",
       "      <td>1</td>\n",
       "      <td>Y</td>\n",
       "    </tr>\n",
       "    <tr>\n",
       "      <th>4</th>\n",
       "      <td>2015</td>\n",
       "      <td>Theft offence</td>\n",
       "      <td>unknown</td>\n",
       "      <td>unknown</td>\n",
       "      <td>Not in scheme</td>\n",
       "      <td>No</td>\n",
       "      <td>1</td>\n",
       "      <td>Y</td>\n",
       "    </tr>\n",
       "  </tbody>\n",
       "</table>\n",
       "</div>"
      ],
      "text/plain": [
       "   Year                    Offence category REFINED  \\\n",
       "0  2015                                Drug offence   \n",
       "1  2015  Death or serious injury - unlawful driving   \n",
       "2  2015                              Sexual offence   \n",
       "3  2015                               Theft offence   \n",
       "4  2015                               Theft offence   \n",
       "\n",
       "                         Original sentence (refined) Crown Court  \\\n",
       "0                               3 years imprisonment     Bristol   \n",
       "1  6 years imprisonment - Disqualified driving - ...  Portsmouth   \n",
       "2        9 months imprisonment suspended for 2 years  Nottingham   \n",
       "3  4 years and 10 months imprisonment - consecuti...   St Albans   \n",
       "4                                            unknown     unknown   \n",
       "\n",
       "  Outcome of Decision Revised?  People Top 7  \n",
       "0        Not referred       No       1     Y  \n",
       "1        Not referred       No       1     Y  \n",
       "2         Out of time       No       1     Y  \n",
       "3        Not referred       No       1     Y  \n",
       "4       Not in scheme       No       1     Y  "
      ]
     },
     "execution_count": 2,
     "metadata": {},
     "output_type": "execute_result"
    }
   ],
   "source": [
    "import pandas as pd\n",
    "\n",
    "df = pd.read_csv(url)\n",
    "df.head()"
   ]
  },
  {
   "cell_type": "code",
   "execution_count": 178,
   "metadata": {},
   "outputs": [
    {
     "data": {
      "text/plain": [
       "Year                                                                        2015\n",
       "Offence category REFINED              Death or serious injury - unlawful driving\n",
       "Original sentence (refined)    6 years imprisonment - Disqualified driving - ...\n",
       "Crown Court                                                           Portsmouth\n",
       "Outcome of Decision                                                 Not referred\n",
       "Revised?                                                                      No\n",
       "People                                                                         1\n",
       "Top 7                                                                          Y\n",
       "Name: 1, dtype: object"
      ]
     },
     "execution_count": 178,
     "metadata": {},
     "output_type": "execute_result"
    }
   ],
   "source": [
    "#get a row\n",
    "df.iloc[1]"
   ]
  },
  {
   "cell_type": "code",
   "execution_count": 179,
   "metadata": {},
   "outputs": [
    {
     "data": {
      "text/plain": [
       "'6 years imprisonment - Disqualified driving - 8 years'"
      ]
     },
     "execution_count": 179,
     "metadata": {},
     "output_type": "execute_result"
    }
   ],
   "source": [
    "#and a, erm. sentence...\n",
    "df.iloc[1]['Original sentence (refined)']"
   ]
  },
  {
   "cell_type": "code",
   "execution_count": 180,
   "metadata": {},
   "outputs": [
    {
     "data": {
      "text/plain": [
       "[Quantity(6, \"Unit(name=\"year\", entity=Entity(\"time\"), uri=Year)\"),\n",
       " Quantity(8, \"Unit(name=\"year\", entity=Entity(\"time\"), uri=Year)\")]"
      ]
     },
     "execution_count": 180,
     "metadata": {},
     "output_type": "execute_result"
    }
   ],
   "source": [
    "parser.parse(df.iloc[1]['Original sentence (refined)'])"
   ]
  },
  {
   "cell_type": "code",
   "execution_count": 206,
   "metadata": {},
   "outputs": [],
   "source": [
    "def amountify(txt):\n",
    "    #txt may be some flavout of nan...\n",
    "    #handle scruffily for now...\n",
    "    try:\n",
    "        if txt:\n",
    "            p = parser.parse(txt)\n",
    "            x=[]\n",
    "            for q in p:\n",
    "                x.append( '{} {}'.format(q.value, q.unit.name))\n",
    "            return '::'.join(x)\n",
    "        return ''\n",
    "    except:\n",
    "        return"
   ]
  },
  {
   "cell_type": "code",
   "execution_count": 207,
   "metadata": {},
   "outputs": [],
   "source": [
    "df['amounts'] = df['Original sentence (refined)'].apply(amountify)"
   ]
  },
  {
   "cell_type": "code",
   "execution_count": 208,
   "metadata": {},
   "outputs": [
    {
     "data": {
      "text/html": [
       "<div>\n",
       "<style scoped>\n",
       "    .dataframe tbody tr th:only-of-type {\n",
       "        vertical-align: middle;\n",
       "    }\n",
       "\n",
       "    .dataframe tbody tr th {\n",
       "        vertical-align: top;\n",
       "    }\n",
       "\n",
       "    .dataframe thead th {\n",
       "        text-align: right;\n",
       "    }\n",
       "</style>\n",
       "<table border=\"1\" class=\"dataframe\">\n",
       "  <thead>\n",
       "    <tr style=\"text-align: right;\">\n",
       "      <th></th>\n",
       "      <th>Year</th>\n",
       "      <th>Offence category REFINED</th>\n",
       "      <th>Original sentence (refined)</th>\n",
       "      <th>Crown Court</th>\n",
       "      <th>Outcome of Decision</th>\n",
       "      <th>Revised?</th>\n",
       "      <th>People</th>\n",
       "      <th>Top 7</th>\n",
       "      <th>amounts</th>\n",
       "    </tr>\n",
       "  </thead>\n",
       "  <tbody>\n",
       "    <tr>\n",
       "      <th>0</th>\n",
       "      <td>2015</td>\n",
       "      <td>Drug offence</td>\n",
       "      <td>3 years imprisonment</td>\n",
       "      <td>Bristol</td>\n",
       "      <td>Not referred</td>\n",
       "      <td>No</td>\n",
       "      <td>1</td>\n",
       "      <td>Y</td>\n",
       "      <td>3.0 year</td>\n",
       "    </tr>\n",
       "    <tr>\n",
       "      <th>1</th>\n",
       "      <td>2015</td>\n",
       "      <td>Death or serious injury - unlawful driving</td>\n",
       "      <td>6 years imprisonment - Disqualified driving - ...</td>\n",
       "      <td>Portsmouth</td>\n",
       "      <td>Not referred</td>\n",
       "      <td>No</td>\n",
       "      <td>1</td>\n",
       "      <td>Y</td>\n",
       "      <td>6.0 year::8.0 year</td>\n",
       "    </tr>\n",
       "    <tr>\n",
       "      <th>2</th>\n",
       "      <td>2015</td>\n",
       "      <td>Sexual offence</td>\n",
       "      <td>9 months imprisonment suspended for 2 years</td>\n",
       "      <td>Nottingham</td>\n",
       "      <td>Out of time</td>\n",
       "      <td>No</td>\n",
       "      <td>1</td>\n",
       "      <td>Y</td>\n",
       "      <td>9.0 month::2.0 year</td>\n",
       "    </tr>\n",
       "    <tr>\n",
       "      <th>3</th>\n",
       "      <td>2015</td>\n",
       "      <td>Theft offence</td>\n",
       "      <td>4 years and 10 months imprisonment - consecuti...</td>\n",
       "      <td>St Albans</td>\n",
       "      <td>Not referred</td>\n",
       "      <td>No</td>\n",
       "      <td>1</td>\n",
       "      <td>Y</td>\n",
       "      <td>4.0 year::10.0 month</td>\n",
       "    </tr>\n",
       "    <tr>\n",
       "      <th>4</th>\n",
       "      <td>2015</td>\n",
       "      <td>Theft offence</td>\n",
       "      <td>unknown</td>\n",
       "      <td>unknown</td>\n",
       "      <td>Not in scheme</td>\n",
       "      <td>No</td>\n",
       "      <td>1</td>\n",
       "      <td>Y</td>\n",
       "      <td></td>\n",
       "    </tr>\n",
       "  </tbody>\n",
       "</table>\n",
       "</div>"
      ],
      "text/plain": [
       "   Year                    Offence category REFINED  \\\n",
       "0  2015                                Drug offence   \n",
       "1  2015  Death or serious injury - unlawful driving   \n",
       "2  2015                              Sexual offence   \n",
       "3  2015                               Theft offence   \n",
       "4  2015                               Theft offence   \n",
       "\n",
       "                         Original sentence (refined) Crown Court  \\\n",
       "0                               3 years imprisonment     Bristol   \n",
       "1  6 years imprisonment - Disqualified driving - ...  Portsmouth   \n",
       "2        9 months imprisonment suspended for 2 years  Nottingham   \n",
       "3  4 years and 10 months imprisonment - consecuti...   St Albans   \n",
       "4                                            unknown     unknown   \n",
       "\n",
       "  Outcome of Decision Revised?  People Top 7               amounts  \n",
       "0        Not referred       No       1     Y              3.0 year  \n",
       "1        Not referred       No       1     Y    6.0 year::8.0 year  \n",
       "2         Out of time       No       1     Y   9.0 month::2.0 year  \n",
       "3        Not referred       No       1     Y  4.0 year::10.0 month  \n",
       "4       Not in scheme       No       1     Y                        "
      ]
     },
     "execution_count": 208,
     "metadata": {},
     "output_type": "execute_result"
    }
   ],
   "source": [
    "df.head()"
   ]
  },
  {
   "cell_type": "markdown",
   "metadata": {},
   "source": [
    "We could then do something to split multiple amounts into multiple rows or columns..."
   ]
  },
  {
   "cell_type": "markdown",
   "metadata": {},
   "source": [
    "### Parsing Semi-Structured Sentences\n",
    "\n",
    "The sentencing sentences look to have a reasonable degree of structure to them (or at least, there are some commenalities in the way some of them are structured).\n",
    "\n",
    "We can exploit this structure by writing some more specific pattern matches to pull out even more information."
   ]
  },
  {
   "cell_type": "code",
   "execution_count": 6,
   "metadata": {},
   "outputs": [
    {
     "name": "stdout",
     "output_type": "stream",
     "text": [
      "3 years imprisonment\n",
      "6 years imprisonment - Disqualified driving - 8 years\n",
      "9 months imprisonment suspended for 2 years\n",
      "4 years and 10 months imprisonment - consecutive to any other periods of imprisonment\n",
      "unknown\n",
      "unknown\n",
      "3 year community sentence attend sex offenders group and pay surcharge of £60 within 2 months\n",
      "£850 Fine\n",
      "12-months disqualification\n",
      "Community Sentence / SOPO for 5 years/ pay a surcharge of £60 within 3 months\n",
      "Bound over in the sum of £100.00 for 12 months\n",
      "18 months imprisonment suspended for 2 years\n",
      "9 years imprisonment\n",
      "13 months imprisonment\n",
      "14 years and 6 months imprisonment\n",
      "3 years and 9 months imprisonment\n",
      "Life imprisonment with a minimum of 25 years\n",
      "6 years and 3 months imprisonment\n",
      "4 years imprisonment\n",
      "12 months imprisonment - confiscation under POCA 2002\n"
     ]
    }
   ],
   "source": [
    "df['Original sentence (refined)'][:20].apply(print);"
   ]
  },
  {
   "cell_type": "markdown",
   "metadata": {},
   "source": [
    "It makes sense to try to build a default hierarchy that extracts from more specific to less specific structures...\n",
    "\n",
    "For example:\n",
    "\n",
    "- *9 months imprisonment suspended for 2 years* is more specific than *9 months imprisonment* "
   ]
  }
 ],
 "metadata": {
  "_draft": {
   "nbviewer_url": "https://gist.github.com/1b1b795c7cffbc9809da33a703842354"
  },
  "gist": {
   "data": {
    "description": "Example of parsing quantities from sentences",
    "public": true
   },
   "id": "1b1b795c7cffbc9809da33a703842354"
  },
  "kernelspec": {
   "display_name": "Python 3",
   "language": "python",
   "name": "python3"
  },
  "language_info": {
   "codemirror_mode": {
    "name": "ipython",
    "version": 3
   },
   "file_extension": ".py",
   "mimetype": "text/x-python",
   "name": "python",
   "nbconvert_exporter": "python",
   "pygments_lexer": "ipython3",
   "version": "3.7.3"
  }
 },
 "nbformat": 4,
 "nbformat_minor": 2
}
